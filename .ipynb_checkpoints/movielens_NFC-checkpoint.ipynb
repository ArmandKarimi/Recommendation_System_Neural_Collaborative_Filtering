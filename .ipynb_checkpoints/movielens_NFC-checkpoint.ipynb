{
 "cells": [
  {
   "cell_type": "markdown",
   "id": "ced27141-404b-4f7b-9576-69dbd0bd1185",
   "metadata": {},
   "source": [
    "# 🎬 Movie Recommendation System with Hybrid Collaborative Filtering\n",
    "\n",
    "This notebook demonstrates how to build a **hybrid recommendation system** that combines the power of **collaborative filtering** with rich **content-based features** such as:\n",
    "\n",
    "- 🏷️ **Tags**\n",
    "- 🎬 **Genres**\n",
    "- 🎥 **Director & Cast**\n",
    "- 📝 **User Reviews**\n",
    "- 🕓 **Temporal Features** (timestamps encoded with Cartesian coordinates)\n",
    "\n",
    "We use **PyTorch** to implement a neural network that learns to predict user ratings by embedding both user-movie interactions and high-level textual/movie metadata using **SentenceTransformers**.\n",
    "\n",
    "Key components of the notebook include:\n",
    "- 🧹 Data preprocessing and enrichment\n",
    "- 🧠 Embedding textual features with transformer-based models\n",
    "- 🔁 Train/validation/test split\n",
    "- 🧱 Custom PyTorch dataset and model\n",
    "- 📈 Training and evaluation\n",
    "- 🎯 Movie recommendation generation\n",
    "\n",
    "By the end, you'll have a flexible and scalable framework for delivering personalized movie recommendations using both **collaborative signals** and **semantic content**.\n",
    "\n",
    "Data is from: https://grouplens.org/datasets/movielens/"
   ]
  },
  {
   "cell_type": "code",
   "execution_count": 1,
   "id": "3de0d8b2-c4aa-4f22-af32-f0b7b0929cd0",
   "metadata": {},
   "outputs": [],
   "source": [
    "%reset -f"
   ]
  },
  {
   "cell_type": "markdown",
   "id": "0399dbf5-7838-4587-bab1-d8e671b58195",
   "metadata": {},
   "source": [
    "## Libraries"
   ]
  },
  {
   "cell_type": "code",
   "execution_count": 2,
   "id": "70b564c9-cd7e-4bc6-8574-6c19367e062f",
   "metadata": {},
   "outputs": [],
   "source": [
    "import pandas as pd\n",
    "import numpy as np\n",
    "from sklearn.preprocessing import LabelEncoder\n",
    "\n",
    "import torch\n",
    "import torch.nn as nn\n",
    "from torch.utils.data import Dataset, DataLoader\n",
    "import torch.optim as optim\n"
   ]
  },
  {
   "cell_type": "markdown",
   "id": "690a3244-0b6f-455c-bd72-edd9b4761614",
   "metadata": {},
   "source": [
    "## Import data"
   ]
  },
  {
   "cell_type": "markdown",
   "id": "fd0b7f79-9205-436b-a10b-26adafc59f5f",
   "metadata": {},
   "source": [
    "### Metadata"
   ]
  },
  {
   "cell_type": "code",
   "execution_count": 3,
   "id": "6fc2c3cd-3127-4014-9cc7-f38d08151937",
   "metadata": {},
   "outputs": [],
   "source": [
    "metadata = pd.read_json(\"data/raw/metadata_updated.json\", lines = True)"
   ]
  },
  {
   "cell_type": "code",
   "execution_count": 4,
   "id": "f5c34333-8b30-42c6-844b-0d92a0df10e2",
   "metadata": {},
   "outputs": [
    {
     "data": {
      "text/html": [
       "<div>\n",
       "<style scoped>\n",
       "    .dataframe tbody tr th:only-of-type {\n",
       "        vertical-align: middle;\n",
       "    }\n",
       "\n",
       "    .dataframe tbody tr th {\n",
       "        vertical-align: top;\n",
       "    }\n",
       "\n",
       "    .dataframe thead th {\n",
       "        text-align: right;\n",
       "    }\n",
       "</style>\n",
       "<table border=\"1\" class=\"dataframe\">\n",
       "  <thead>\n",
       "    <tr style=\"text-align: right;\">\n",
       "      <th></th>\n",
       "      <th>title</th>\n",
       "      <th>directedBy</th>\n",
       "      <th>starring</th>\n",
       "      <th>avgRating</th>\n",
       "      <th>imdbId</th>\n",
       "      <th>item_id</th>\n",
       "    </tr>\n",
       "  </thead>\n",
       "  <tbody>\n",
       "    <tr>\n",
       "      <th>0</th>\n",
       "      <td>Toy Story (1995)</td>\n",
       "      <td>John Lasseter</td>\n",
       "      <td>Tim Allen, Tom Hanks, Don Rickles, Jim Varney,...</td>\n",
       "      <td>3.89146</td>\n",
       "      <td>114709</td>\n",
       "      <td>1</td>\n",
       "    </tr>\n",
       "    <tr>\n",
       "      <th>1</th>\n",
       "      <td>Jumanji (1995)</td>\n",
       "      <td>Joe Johnston</td>\n",
       "      <td>Jonathan Hyde, Bradley Pierce, Robin Williams,...</td>\n",
       "      <td>3.26605</td>\n",
       "      <td>113497</td>\n",
       "      <td>2</td>\n",
       "    </tr>\n",
       "    <tr>\n",
       "      <th>2</th>\n",
       "      <td>Grumpier Old Men (1995)</td>\n",
       "      <td>Howard Deutch</td>\n",
       "      <td>Jack Lemmon, Walter Matthau, Ann-Margret , Sop...</td>\n",
       "      <td>3.17146</td>\n",
       "      <td>113228</td>\n",
       "      <td>3</td>\n",
       "    </tr>\n",
       "  </tbody>\n",
       "</table>\n",
       "</div>"
      ],
      "text/plain": [
       "                     title     directedBy  \\\n",
       "0         Toy Story (1995)  John Lasseter   \n",
       "1           Jumanji (1995)   Joe Johnston   \n",
       "2  Grumpier Old Men (1995)  Howard Deutch   \n",
       "\n",
       "                                            starring  avgRating  imdbId  \\\n",
       "0  Tim Allen, Tom Hanks, Don Rickles, Jim Varney,...    3.89146  114709   \n",
       "1  Jonathan Hyde, Bradley Pierce, Robin Williams,...    3.26605  113497   \n",
       "2  Jack Lemmon, Walter Matthau, Ann-Margret , Sop...    3.17146  113228   \n",
       "\n",
       "   item_id  \n",
       "0        1  \n",
       "1        2  \n",
       "2        3  "
      ]
     },
     "execution_count": 4,
     "metadata": {},
     "output_type": "execute_result"
    }
   ],
   "source": [
    "metadata.head(3)"
   ]
  },
  {
   "cell_type": "code",
   "execution_count": 5,
   "id": "3c30368a-1d73-4a0b-be62-84d87951e386",
   "metadata": {},
   "outputs": [
    {
     "name": "stdout",
     "output_type": "stream",
     "text": [
      "<class 'pandas.core.frame.DataFrame'>\n",
      "RangeIndex: 84661 entries, 0 to 84660\n",
      "Data columns (total 6 columns):\n",
      " #   Column      Non-Null Count  Dtype  \n",
      "---  ------      --------------  -----  \n",
      " 0   title       84661 non-null  object \n",
      " 1   directedBy  84661 non-null  object \n",
      " 2   starring    84661 non-null  object \n",
      " 3   avgRating   84661 non-null  float64\n",
      " 4   imdbId      84661 non-null  int64  \n",
      " 5   item_id     84661 non-null  int64  \n",
      "dtypes: float64(1), int64(2), object(3)\n",
      "memory usage: 3.9+ MB\n"
     ]
    }
   ],
   "source": [
    "metadata.info()"
   ]
  },
  {
   "cell_type": "code",
   "execution_count": 6,
   "id": "eab1b310-3004-465e-88ec-01d1a0fc3fdf",
   "metadata": {},
   "outputs": [],
   "source": [
    "#metadata.to_csv(\"data/metadata.csv\")"
   ]
  },
  {
   "cell_type": "markdown",
   "id": "70b0963a-3137-4028-b9b4-eaaf2b45f95d",
   "metadata": {},
   "source": [
    "### Reviews\n",
    "Reviews file is a huge file 3.9G. Since this project is for educational purposes it is better only to take a smaple of it."
   ]
  },
  {
   "cell_type": "code",
   "execution_count": 7,
   "id": "7a2d7cba-ebe6-4bfa-bd78-32fc6d5b12ff",
   "metadata": {},
   "outputs": [],
   "source": [
    "reviews = pd.read_json(\"data/raw/reviews.json\", lines = True)"
   ]
  },
  {
   "cell_type": "markdown",
   "id": "01de6135-f47b-4a72-8666-06940e83952e",
   "metadata": {},
   "source": [
    "We group by \"movieId\" so we are sure that the sampling is **stratified** meaning we having ratings for all movies."
   ]
  },
  {
   "cell_type": "code",
   "execution_count": 8,
   "id": "62851625-7f35-4a39-b2a0-a7714d2b8181",
   "metadata": {},
   "outputs": [],
   "source": [
    "reviews_sample = reviews.groupby(\"item_id\", group_keys = False).sample(frac = 0.1, random_state = 42)"
   ]
  },
  {
   "cell_type": "code",
   "execution_count": 9,
   "id": "856bff80-0372-4a25-a480-cf4cfa92dd39",
   "metadata": {},
   "outputs": [
    {
     "data": {
      "text/html": [
       "<div>\n",
       "<style scoped>\n",
       "    .dataframe tbody tr th:only-of-type {\n",
       "        vertical-align: middle;\n",
       "    }\n",
       "\n",
       "    .dataframe tbody tr th {\n",
       "        vertical-align: top;\n",
       "    }\n",
       "\n",
       "    .dataframe thead th {\n",
       "        text-align: right;\n",
       "    }\n",
       "</style>\n",
       "<table border=\"1\" class=\"dataframe\">\n",
       "  <thead>\n",
       "    <tr style=\"text-align: right;\">\n",
       "      <th></th>\n",
       "      <th>item_id</th>\n",
       "      <th>txt</th>\n",
       "    </tr>\n",
       "  </thead>\n",
       "  <tbody>\n",
       "    <tr>\n",
       "      <th>1083889</th>\n",
       "      <td>1</td>\n",
       "      <td>The pioneer of animation movies.; This was the...</td>\n",
       "    </tr>\n",
       "    <tr>\n",
       "      <th>2044248</th>\n",
       "      <td>1</td>\n",
       "      <td>The masterpiece that started it all; I remembe...</td>\n",
       "    </tr>\n",
       "    <tr>\n",
       "      <th>1248469</th>\n",
       "      <td>1</td>\n",
       "      <td>A magnificent milestone in animation!; Toy Sto...</td>\n",
       "    </tr>\n",
       "  </tbody>\n",
       "</table>\n",
       "</div>"
      ],
      "text/plain": [
       "         item_id                                                txt\n",
       "1083889        1  The pioneer of animation movies.; This was the...\n",
       "2044248        1  The masterpiece that started it all; I remembe...\n",
       "1248469        1  A magnificent milestone in animation!; Toy Sto..."
      ]
     },
     "execution_count": 9,
     "metadata": {},
     "output_type": "execute_result"
    }
   ],
   "source": [
    "reviews_sample.head(3)"
   ]
  },
  {
   "cell_type": "code",
   "execution_count": 10,
   "id": "6f919a3c-22ff-44e6-a608-7f2cdfcb1307",
   "metadata": {},
   "outputs": [
    {
     "name": "stdout",
     "output_type": "stream",
     "text": [
      "<class 'pandas.core.frame.DataFrame'>\n",
      "Index: 260048 entries, 1083889 to 412345\n",
      "Data columns (total 2 columns):\n",
      " #   Column   Non-Null Count   Dtype \n",
      "---  ------   --------------   ----- \n",
      " 0   item_id  260048 non-null  int64 \n",
      " 1   txt      260048 non-null  object\n",
      "dtypes: int64(1), object(1)\n",
      "memory usage: 6.0+ MB\n"
     ]
    }
   ],
   "source": [
    "reviews_sample.info()"
   ]
  },
  {
   "cell_type": "code",
   "execution_count": 11,
   "id": "22edc520-a34a-4abb-963f-616b2366973b",
   "metadata": {},
   "outputs": [],
   "source": [
    "reviews_sample.dropna(inplace = True)\n",
    "reviews_sample.reset_index(drop = True, inplace = True)"
   ]
  },
  {
   "cell_type": "code",
   "execution_count": 12,
   "id": "3e861445-412f-40c9-a272-8018440a776b",
   "metadata": {},
   "outputs": [],
   "source": [
    "reviews_sample.to_csv(\"data/processed/reviews_sample.csv\")"
   ]
  },
  {
   "cell_type": "markdown",
   "id": "6ed9588a-3d58-4145-90c4-3a66d6dffba2",
   "metadata": {},
   "source": [
    "### Ratings"
   ]
  },
  {
   "cell_type": "markdown",
   "id": "4a34288f-d485-4ace-bb88-e9346a8de263",
   "metadata": {},
   "source": [
    "Again ratings file is a huge file 1.9G. Since this project is for educational purposes it is better only to take a smaple of it"
   ]
  },
  {
   "cell_type": "code",
   "execution_count": 13,
   "id": "12c96295-98c5-4697-baf5-7d58a32e4bda",
   "metadata": {},
   "outputs": [],
   "source": [
    "ratings = pd.read_csv(\"data/raw/rating.csv\", parse_dates=[\"timestamp\"])"
   ]
  },
  {
   "cell_type": "code",
   "execution_count": 14,
   "id": "8690f745-023f-4050-8f5b-49db2b2f7417",
   "metadata": {},
   "outputs": [
    {
     "name": "stdout",
     "output_type": "stream",
     "text": [
      "<class 'pandas.core.frame.DataFrame'>\n",
      "RangeIndex: 20000263 entries, 0 to 20000262\n",
      "Data columns (total 4 columns):\n",
      " #   Column     Dtype         \n",
      "---  ------     -----         \n",
      " 0   userId     int64         \n",
      " 1   movieId    int64         \n",
      " 2   rating     float64       \n",
      " 3   timestamp  datetime64[ns]\n",
      "dtypes: datetime64[ns](1), float64(1), int64(2)\n",
      "memory usage: 610.4 MB\n"
     ]
    }
   ],
   "source": [
    "ratings.info()"
   ]
  },
  {
   "cell_type": "code",
   "execution_count": 15,
   "id": "4f06c174-0861-4cc4-ba00-082b7dd55b82",
   "metadata": {},
   "outputs": [],
   "source": [
    "ratings_sample = ratings.groupby(\"movieId\", group_keys = False).sample(frac = 0.1, random_state = 42)"
   ]
  },
  {
   "cell_type": "code",
   "execution_count": 16,
   "id": "f239adf9-3756-494a-9f76-1968ac40e6ca",
   "metadata": {},
   "outputs": [
    {
     "data": {
      "text/html": [
       "<div>\n",
       "<style scoped>\n",
       "    .dataframe tbody tr th:only-of-type {\n",
       "        vertical-align: middle;\n",
       "    }\n",
       "\n",
       "    .dataframe tbody tr th {\n",
       "        vertical-align: top;\n",
       "    }\n",
       "\n",
       "    .dataframe thead th {\n",
       "        text-align: right;\n",
       "    }\n",
       "</style>\n",
       "<table border=\"1\" class=\"dataframe\">\n",
       "  <thead>\n",
       "    <tr style=\"text-align: right;\">\n",
       "      <th></th>\n",
       "      <th>userId</th>\n",
       "      <th>movieId</th>\n",
       "      <th>rating</th>\n",
       "      <th>timestamp</th>\n",
       "    </tr>\n",
       "  </thead>\n",
       "  <tbody>\n",
       "    <tr>\n",
       "      <th>4834169</th>\n",
       "      <td>33218</td>\n",
       "      <td>1</td>\n",
       "      <td>5.0</td>\n",
       "      <td>1997-04-03 22:17:32</td>\n",
       "    </tr>\n",
       "    <tr>\n",
       "      <th>1716733</th>\n",
       "      <td>11586</td>\n",
       "      <td>1</td>\n",
       "      <td>3.0</td>\n",
       "      <td>2009-01-09 21:44:52</td>\n",
       "    </tr>\n",
       "    <tr>\n",
       "      <th>7170935</th>\n",
       "      <td>49444</td>\n",
       "      <td>1</td>\n",
       "      <td>4.0</td>\n",
       "      <td>2003-02-03 22:37:10</td>\n",
       "    </tr>\n",
       "  </tbody>\n",
       "</table>\n",
       "</div>"
      ],
      "text/plain": [
       "         userId  movieId  rating           timestamp\n",
       "4834169   33218        1     5.0 1997-04-03 22:17:32\n",
       "1716733   11586        1     3.0 2009-01-09 21:44:52\n",
       "7170935   49444        1     4.0 2003-02-03 22:37:10"
      ]
     },
     "execution_count": 16,
     "metadata": {},
     "output_type": "execute_result"
    }
   ],
   "source": [
    "#this is our main dataframe (raitng is the target actually)\n",
    "ratings_sample.head(3)"
   ]
  },
  {
   "cell_type": "code",
   "execution_count": 17,
   "id": "fee07aa4-304f-47c0-8d56-b142956474bb",
   "metadata": {},
   "outputs": [
    {
     "name": "stdout",
     "output_type": "stream",
     "text": [
      "<class 'pandas.core.frame.DataFrame'>\n",
      "Index: 1998483 entries, 4834169 to 8504617\n",
      "Data columns (total 4 columns):\n",
      " #   Column     Dtype         \n",
      "---  ------     -----         \n",
      " 0   userId     int64         \n",
      " 1   movieId    int64         \n",
      " 2   rating     float64       \n",
      " 3   timestamp  datetime64[ns]\n",
      "dtypes: datetime64[ns](1), float64(1), int64(2)\n",
      "memory usage: 76.2 MB\n"
     ]
    }
   ],
   "source": [
    "ratings_sample.info()"
   ]
  },
  {
   "cell_type": "code",
   "execution_count": 18,
   "id": "06ca2957-7dba-4706-a546-87010127d3c0",
   "metadata": {},
   "outputs": [],
   "source": [
    "ratings.dropna(inplace = True)\n",
    "ratings.reset_index(drop = True, inplace = True)"
   ]
  },
  {
   "cell_type": "code",
   "execution_count": 19,
   "id": "596894f2-0e18-4985-b275-1e92b1a3e045",
   "metadata": {},
   "outputs": [],
   "source": [
    "ratings_sample.to_csv(\"data/processed/ratings_sample.csv\")"
   ]
  },
  {
   "cell_type": "markdown",
   "id": "7d19ae6f-55b1-4efa-9302-a84958e1320f",
   "metadata": {},
   "source": [
    "### Movies"
   ]
  },
  {
   "cell_type": "code",
   "execution_count": 20,
   "id": "6a310f03-1d7a-4b45-b675-e9e5361e9954",
   "metadata": {},
   "outputs": [],
   "source": [
    "movies = pd.read_csv(\"data/raw/movie.csv\")"
   ]
  },
  {
   "cell_type": "code",
   "execution_count": 21,
   "id": "e7a7f802-2366-478d-9b67-561ba359c62e",
   "metadata": {},
   "outputs": [
    {
     "name": "stdout",
     "output_type": "stream",
     "text": [
      "<class 'pandas.core.frame.DataFrame'>\n",
      "RangeIndex: 27278 entries, 0 to 27277\n",
      "Data columns (total 3 columns):\n",
      " #   Column   Non-Null Count  Dtype \n",
      "---  ------   --------------  ----- \n",
      " 0   movieId  27278 non-null  int64 \n",
      " 1   title    27278 non-null  object\n",
      " 2   genres   27278 non-null  object\n",
      "dtypes: int64(1), object(2)\n",
      "memory usage: 639.5+ KB\n"
     ]
    }
   ],
   "source": [
    "movies.info()"
   ]
  },
  {
   "cell_type": "code",
   "execution_count": 22,
   "id": "d36c00b6-3c55-478a-b3f4-a743c3506663",
   "metadata": {},
   "outputs": [
    {
     "data": {
      "text/html": [
       "<div>\n",
       "<style scoped>\n",
       "    .dataframe tbody tr th:only-of-type {\n",
       "        vertical-align: middle;\n",
       "    }\n",
       "\n",
       "    .dataframe tbody tr th {\n",
       "        vertical-align: top;\n",
       "    }\n",
       "\n",
       "    .dataframe thead th {\n",
       "        text-align: right;\n",
       "    }\n",
       "</style>\n",
       "<table border=\"1\" class=\"dataframe\">\n",
       "  <thead>\n",
       "    <tr style=\"text-align: right;\">\n",
       "      <th></th>\n",
       "      <th>movieId</th>\n",
       "      <th>title</th>\n",
       "      <th>genres</th>\n",
       "    </tr>\n",
       "  </thead>\n",
       "  <tbody>\n",
       "    <tr>\n",
       "      <th>0</th>\n",
       "      <td>1</td>\n",
       "      <td>Toy Story (1995)</td>\n",
       "      <td>Adventure|Animation|Children|Comedy|Fantasy</td>\n",
       "    </tr>\n",
       "    <tr>\n",
       "      <th>1</th>\n",
       "      <td>2</td>\n",
       "      <td>Jumanji (1995)</td>\n",
       "      <td>Adventure|Children|Fantasy</td>\n",
       "    </tr>\n",
       "    <tr>\n",
       "      <th>2</th>\n",
       "      <td>3</td>\n",
       "      <td>Grumpier Old Men (1995)</td>\n",
       "      <td>Comedy|Romance</td>\n",
       "    </tr>\n",
       "  </tbody>\n",
       "</table>\n",
       "</div>"
      ],
      "text/plain": [
       "   movieId                    title  \\\n",
       "0        1         Toy Story (1995)   \n",
       "1        2           Jumanji (1995)   \n",
       "2        3  Grumpier Old Men (1995)   \n",
       "\n",
       "                                        genres  \n",
       "0  Adventure|Animation|Children|Comedy|Fantasy  \n",
       "1                   Adventure|Children|Fantasy  \n",
       "2                               Comedy|Romance  "
      ]
     },
     "execution_count": 22,
     "metadata": {},
     "output_type": "execute_result"
    }
   ],
   "source": [
    "movies.head(3)"
   ]
  },
  {
   "cell_type": "code",
   "execution_count": 23,
   "id": "edceb694-2698-4362-9f4e-5449a00cbe95",
   "metadata": {},
   "outputs": [],
   "source": [
    "movies = movies.sample(frac = 0.05, random_state = 42)"
   ]
  },
  {
   "cell_type": "code",
   "execution_count": 24,
   "id": "1edf0f46-5fc5-446d-8c58-298dd9c97577",
   "metadata": {},
   "outputs": [
    {
     "name": "stdout",
     "output_type": "stream",
     "text": [
      "<class 'pandas.core.frame.DataFrame'>\n",
      "Index: 1364 entries, 12922 to 15555\n",
      "Data columns (total 3 columns):\n",
      " #   Column   Non-Null Count  Dtype \n",
      "---  ------   --------------  ----- \n",
      " 0   movieId  1364 non-null   int64 \n",
      " 1   title    1364 non-null   object\n",
      " 2   genres   1364 non-null   object\n",
      "dtypes: int64(1), object(2)\n",
      "memory usage: 42.6+ KB\n"
     ]
    }
   ],
   "source": [
    "movies.info()"
   ]
  },
  {
   "cell_type": "markdown",
   "id": "97673e43-f6fd-4cdf-b313-d3c729545d69",
   "metadata": {},
   "source": [
    "### Tags"
   ]
  },
  {
   "cell_type": "markdown",
   "id": "025e36a5-63bb-49cf-97fb-11475020424d",
   "metadata": {},
   "source": [
    "These are the tags given (suggested) by users."
   ]
  },
  {
   "cell_type": "code",
   "execution_count": 25,
   "id": "df1485ec-3dd4-45b7-8273-944b62d1442a",
   "metadata": {},
   "outputs": [],
   "source": [
    "tags = pd.read_csv(\"data/raw/tag.csv\")"
   ]
  },
  {
   "cell_type": "code",
   "execution_count": 26,
   "id": "43e58286-e325-4311-9286-a62426a5ed69",
   "metadata": {},
   "outputs": [
    {
     "data": {
      "text/html": [
       "<div>\n",
       "<style scoped>\n",
       "    .dataframe tbody tr th:only-of-type {\n",
       "        vertical-align: middle;\n",
       "    }\n",
       "\n",
       "    .dataframe tbody tr th {\n",
       "        vertical-align: top;\n",
       "    }\n",
       "\n",
       "    .dataframe thead th {\n",
       "        text-align: right;\n",
       "    }\n",
       "</style>\n",
       "<table border=\"1\" class=\"dataframe\">\n",
       "  <thead>\n",
       "    <tr style=\"text-align: right;\">\n",
       "      <th></th>\n",
       "      <th>userId</th>\n",
       "      <th>movieId</th>\n",
       "      <th>tag</th>\n",
       "      <th>timestamp</th>\n",
       "    </tr>\n",
       "  </thead>\n",
       "  <tbody>\n",
       "    <tr>\n",
       "      <th>0</th>\n",
       "      <td>18</td>\n",
       "      <td>4141</td>\n",
       "      <td>Mark Waters</td>\n",
       "      <td>2009-04-24 18:19:40</td>\n",
       "    </tr>\n",
       "    <tr>\n",
       "      <th>1</th>\n",
       "      <td>65</td>\n",
       "      <td>208</td>\n",
       "      <td>dark hero</td>\n",
       "      <td>2013-05-10 01:41:18</td>\n",
       "    </tr>\n",
       "    <tr>\n",
       "      <th>2</th>\n",
       "      <td>65</td>\n",
       "      <td>353</td>\n",
       "      <td>dark hero</td>\n",
       "      <td>2013-05-10 01:41:19</td>\n",
       "    </tr>\n",
       "  </tbody>\n",
       "</table>\n",
       "</div>"
      ],
      "text/plain": [
       "   userId  movieId          tag            timestamp\n",
       "0      18     4141  Mark Waters  2009-04-24 18:19:40\n",
       "1      65      208    dark hero  2013-05-10 01:41:18\n",
       "2      65      353    dark hero  2013-05-10 01:41:19"
      ]
     },
     "execution_count": 26,
     "metadata": {},
     "output_type": "execute_result"
    }
   ],
   "source": [
    "tags.head(3)"
   ]
  },
  {
   "cell_type": "code",
   "execution_count": 27,
   "id": "5d438a0d-52e3-4154-8bc0-1729bf2bcdea",
   "metadata": {},
   "outputs": [
    {
     "name": "stdout",
     "output_type": "stream",
     "text": [
      "<class 'pandas.core.frame.DataFrame'>\n",
      "RangeIndex: 465564 entries, 0 to 465563\n",
      "Data columns (total 4 columns):\n",
      " #   Column     Non-Null Count   Dtype \n",
      "---  ------     --------------   ----- \n",
      " 0   userId     465564 non-null  int64 \n",
      " 1   movieId    465564 non-null  int64 \n",
      " 2   tag        465548 non-null  object\n",
      " 3   timestamp  465564 non-null  object\n",
      "dtypes: int64(2), object(2)\n",
      "memory usage: 14.2+ MB\n"
     ]
    }
   ],
   "source": [
    "tags.info()"
   ]
  },
  {
   "cell_type": "markdown",
   "id": "1e93a370-637c-4a94-bbf8-5ccc71c30b11",
   "metadata": {},
   "source": [
    "There are missing values in tags provided by users. So we drop them."
   ]
  },
  {
   "cell_type": "code",
   "execution_count": 28,
   "id": "f53f4f43-3066-4358-838e-a5f62c933a00",
   "metadata": {},
   "outputs": [],
   "source": [
    "tags.dropna(inplace = True)\n",
    "tags.reset_index(drop = True, inplace = True)"
   ]
  },
  {
   "cell_type": "markdown",
   "id": "57ef2673-4353-4abf-b86d-77422194910b",
   "metadata": {},
   "source": [
    "## 📦 Data Processing\n",
    "\n",
    "To build a hybrid recommendation system, we combine collaborative and content-based features from multiple data sources. Here's what we extract and prepare from each dataset:\n",
    "\n",
    "- **Tags**  \n",
    "  → Extract user-generated ***tags*** and embed them for semantic representation.\n",
    "\n",
    "- **Movies**  \n",
    "  → Extract ***genres*** and embed them to capture thematic information.\n",
    "\n",
    "- **Metadata**  \n",
    "  → Use:\n",
    "  - ***directedBy*** and ***starring*** fields for embedding key contributors\n",
    "  - ***item_id*** to join with other sources\n",
    "\n",
    "- **Reviews** (`reviews_sample`)  \n",
    "  → Extract ***item_id*** for joining and ***txt*** reviews to embed textual sentiment and themes.\n",
    "\n",
    "- **Ratings**  \n",
    "  → Use:\n",
    "  - ***userId*** and ***movieId*** for collaborative filtering\n",
    "  - ***timestamp*** converted to **Cartesian features** (sin/cos) to capture temporal patterns\n",
    "\n",
    "Additionally, we **aggregate multi-valued fields** (e.g. tags, genres, reviews) into lists per movie to ensure a clean, one-row-per-movie format before embedding."
   ]
  },
  {
   "cell_type": "markdown",
   "id": "54741f81-15b1-4284-835a-4306d89058a3",
   "metadata": {},
   "source": [
    "### 💡 Why Aggregate Tags and Genres as Lists per Movie?\n",
    "\n",
    "When enriching movies with metadata like `genres`, `tags`, `reviews`, or `people`, we often face many-to-one relationships. A single movie might have multiple tags or genres, and representing each as a separate row would lead to a **combinatorial explosion** in the dataset.\n",
    "\n",
    "Consider:\n",
    "- A movie with **5 tags** and **3 genres**\n",
    "- If we created a row for each unique tag-genre combination, we'd have **15 rows per movie** (5 × 3)\n",
    "- For millions of movies, this quickly becomes inefficient and introduces **redundant data**\n",
    "\n",
    "✅ **Instead, we group metadata into lists:**\n",
    "- `[\"Action\", \"Sci-Fi\", \"Thriller\"]` for genres\n",
    "- `[\"space\", \"alien\", \"explosions\"]` for tags\n",
    "\n",
    "This has several benefits:\n",
    "- 🧠 **One row per movie** → easier to align with rating-based collaborative filtering\n",
    "- 💾 **Memory efficient** → avoids row duplication\n",
    "- 🧮 **Simple embedding** → encode each list as a single embedding (e.g., average of tag vectors)\n",
    "- ⚡ **Faster training** → since we don’t repeat scalar or embedding features\n",
    "\n",
    "This structure is particularly well-suited for **hybrid recommender systems**, where we combine collaborative embeddings (user/movie IDs) with content-based embeddings (tags, genres, etc.).\n"
   ]
  },
  {
   "cell_type": "markdown",
   "id": "54077b03-13f1-427e-b484-bacef2a6d8ad",
   "metadata": {},
   "source": [
    "### 🕒 Why We Convert Timestamps to Sin/Cos Features (Cartesian Time Embedding)?\n",
    "\n",
    "Timestamps are naturally **cyclical** — patterns repeat daily, weekly, or annually. For example:\n",
    "- People tend to watch movies more on weekends or holidays\n",
    "- Viewing behavior might shift during summer breaks or winter seasons\n",
    "\n",
    "However, raw timestamps or even numeric encodings like `\"hour = 23\"` or `\"month = 12\"` don't capture this **cyclicity** well in models — especially in neural networks.\n",
    "\n",
    "🔁 **The Problem:**\n",
    "The model sees `\"hour = 0\"` and `\"hour = 23\"` as far apart, even though they’re right next to each other on the clock.\n",
    "\n",
    "✅ **The Solution: Project time into a circle using sin/cos**\n",
    "By converting time into its **sinusoidal components**, we preserve its cyclical nature in a **smooth, continuous** way:\n",
    "\n",
    "This maps time onto a **unit circle**, where:\n",
    "- Midnight (0 seconds) → sin = 0, cos = 1\n",
    "- Noon → sin = 0, cos = -1\n",
    "- Midnight again → back to cos = 1\n",
    "\n",
    "✨ **Benefits:**\n",
    "- 🧭 Captures **temporal cycles** (day/night, seasons, holidays)\n",
    "- 🧠 Makes time features more interpretable for neural nets\n",
    "- 📉 Improves generalization on time-related patterns\n",
    "\n",
    "This technique is widely used in time series modeling, recommender systems, and even transformer-based models when representing positional data."
   ]
  },
  {
   "cell_type": "markdown",
   "id": "d914981c-5b6a-4b3c-904c-441c4fc04772",
   "metadata": {},
   "source": [
    "### #️⃣ TAGs"
   ]
  },
  {
   "cell_type": "markdown",
   "id": "3df463f8-6f49-4425-bfaf-a8495a074927",
   "metadata": {},
   "source": [
    "We get 'tags' given by users and merge them with movies "
   ]
  },
  {
   "cell_type": "code",
   "execution_count": 29,
   "id": "1b3a4051-2c89-42df-800f-11864d2aeaa3",
   "metadata": {},
   "outputs": [],
   "source": [
    "tags['tag'] = tags['tag'].apply(lambda x : x.strip().lower())"
   ]
  },
  {
   "cell_type": "code",
   "execution_count": 30,
   "id": "3250358c-83fe-4c67-b95e-cbaa016787be",
   "metadata": {},
   "outputs": [
    {
     "data": {
      "text/html": [
       "<div>\n",
       "<style scoped>\n",
       "    .dataframe tbody tr th:only-of-type {\n",
       "        vertical-align: middle;\n",
       "    }\n",
       "\n",
       "    .dataframe tbody tr th {\n",
       "        vertical-align: top;\n",
       "    }\n",
       "\n",
       "    .dataframe thead th {\n",
       "        text-align: right;\n",
       "    }\n",
       "</style>\n",
       "<table border=\"1\" class=\"dataframe\">\n",
       "  <thead>\n",
       "    <tr style=\"text-align: right;\">\n",
       "      <th></th>\n",
       "      <th>userId</th>\n",
       "      <th>movieId</th>\n",
       "      <th>tag</th>\n",
       "      <th>timestamp</th>\n",
       "    </tr>\n",
       "  </thead>\n",
       "  <tbody>\n",
       "    <tr>\n",
       "      <th>0</th>\n",
       "      <td>18</td>\n",
       "      <td>4141</td>\n",
       "      <td>mark waters</td>\n",
       "      <td>2009-04-24 18:19:40</td>\n",
       "    </tr>\n",
       "    <tr>\n",
       "      <th>1</th>\n",
       "      <td>65</td>\n",
       "      <td>208</td>\n",
       "      <td>dark hero</td>\n",
       "      <td>2013-05-10 01:41:18</td>\n",
       "    </tr>\n",
       "    <tr>\n",
       "      <th>2</th>\n",
       "      <td>65</td>\n",
       "      <td>353</td>\n",
       "      <td>dark hero</td>\n",
       "      <td>2013-05-10 01:41:19</td>\n",
       "    </tr>\n",
       "  </tbody>\n",
       "</table>\n",
       "</div>"
      ],
      "text/plain": [
       "   userId  movieId          tag            timestamp\n",
       "0      18     4141  mark waters  2009-04-24 18:19:40\n",
       "1      65      208    dark hero  2013-05-10 01:41:18\n",
       "2      65      353    dark hero  2013-05-10 01:41:19"
      ]
     },
     "execution_count": 30,
     "metadata": {},
     "output_type": "execute_result"
    }
   ],
   "source": [
    "tags.head(3)"
   ]
  },
  {
   "cell_type": "code",
   "execution_count": 31,
   "id": "0f7e327b-e7b5-42ae-90c7-f73d76c4d1a9",
   "metadata": {},
   "outputs": [],
   "source": [
    "# Utility function to remove duplicates while preserving order\n",
    "def unique_preserve_order(tag_list):\n",
    "    seen = set()\n",
    "    return [tag for tag in tag_list if not (tag in seen or seen.add(tag))]"
   ]
  },
  {
   "cell_type": "code",
   "execution_count": 32,
   "id": "44b8b2a6-1114-48f3-b20a-819a7f0bf096",
   "metadata": {},
   "outputs": [],
   "source": [
    "# Aggregate tag_1 by movieId → get list of tags (no duplicates)\n",
    "df_tags = (\n",
    "    tags.sort_values(by=['movieId'])  # Optional: sort to keep consistency\n",
    "    .groupby('movieId')['tag']\n",
    "    .apply(lambda tags: unique_preserve_order(list(tags)))\n",
    "    .reset_index()\n",
    ")"
   ]
  },
  {
   "cell_type": "code",
   "execution_count": 33,
   "id": "7319a2e1-4308-4b07-be88-861ead0e281b",
   "metadata": {},
   "outputs": [
    {
     "data": {
      "text/html": [
       "<div>\n",
       "<style scoped>\n",
       "    .dataframe tbody tr th:only-of-type {\n",
       "        vertical-align: middle;\n",
       "    }\n",
       "\n",
       "    .dataframe tbody tr th {\n",
       "        vertical-align: top;\n",
       "    }\n",
       "\n",
       "    .dataframe thead th {\n",
       "        text-align: right;\n",
       "    }\n",
       "</style>\n",
       "<table border=\"1\" class=\"dataframe\">\n",
       "  <thead>\n",
       "    <tr style=\"text-align: right;\">\n",
       "      <th></th>\n",
       "      <th>movieId</th>\n",
       "      <th>tag</th>\n",
       "    </tr>\n",
       "  </thead>\n",
       "  <tbody>\n",
       "    <tr>\n",
       "      <th>0</th>\n",
       "      <td>1</td>\n",
       "      <td>[pixar, children, clever, disney, family, funn...</td>\n",
       "    </tr>\n",
       "    <tr>\n",
       "      <th>1</th>\n",
       "      <td>2</td>\n",
       "      <td>[robin williams, scary, board game, saturn awa...</td>\n",
       "    </tr>\n",
       "    <tr>\n",
       "      <th>2</th>\n",
       "      <td>3</td>\n",
       "      <td>[walter matthau, comedy, howard deutch, jack l...</td>\n",
       "    </tr>\n",
       "  </tbody>\n",
       "</table>\n",
       "</div>"
      ],
      "text/plain": [
       "   movieId                                                tag\n",
       "0        1  [pixar, children, clever, disney, family, funn...\n",
       "1        2  [robin williams, scary, board game, saturn awa...\n",
       "2        3  [walter matthau, comedy, howard deutch, jack l..."
      ]
     },
     "execution_count": 33,
     "metadata": {},
     "output_type": "execute_result"
    }
   ],
   "source": [
    "df_tags.head(3)"
   ]
  },
  {
   "cell_type": "code",
   "execution_count": 34,
   "id": "faa85f00-5b9e-4354-9ec5-d074ab86a0a8",
   "metadata": {},
   "outputs": [],
   "source": [
    "df_tags.to_csv(\"data/processed/df_tags.csv\")"
   ]
  },
  {
   "cell_type": "markdown",
   "id": "b3649ee3-5c23-4163-a51d-7ba5ddcf8403",
   "metadata": {},
   "source": [
    "### 🎬 Movies"
   ]
  },
  {
   "cell_type": "code",
   "execution_count": 35,
   "id": "47bdf974-d10e-40f9-8ebc-20b0e8822f2e",
   "metadata": {},
   "outputs": [],
   "source": [
    "movies['genres'] = movies['genres'].apply(lambda x : x.lower())"
   ]
  },
  {
   "cell_type": "code",
   "execution_count": 36,
   "id": "89d1a3ac-fb45-4bb4-b127-ab4136668af2",
   "metadata": {},
   "outputs": [],
   "source": [
    "def clean_genre_list(genres_str):\n",
    "    if pd.isna(genres_str):\n",
    "        return []\n",
    "    genre_list = genres_str.split('|')\n",
    "    genre_list = [g.strip() for g in genre_list if g.strip()]\n",
    "    genre_list = sorted(set(genre_list))  # remove duplicates, sort alphabetically\n",
    "    return genre_list"
   ]
  },
  {
   "cell_type": "code",
   "execution_count": 37,
   "id": "5bc674c4-f9d5-48db-b8ba-b432803ed096",
   "metadata": {},
   "outputs": [],
   "source": [
    "movies['genres'] = movies['genres'].apply(clean_genre_list)"
   ]
  },
  {
   "cell_type": "code",
   "execution_count": 38,
   "id": "5b0aa892-c80b-40cb-8b4c-001d5bbe705e",
   "metadata": {},
   "outputs": [
    {
     "data": {
      "text/html": [
       "<div>\n",
       "<style scoped>\n",
       "    .dataframe tbody tr th:only-of-type {\n",
       "        vertical-align: middle;\n",
       "    }\n",
       "\n",
       "    .dataframe tbody tr th {\n",
       "        vertical-align: top;\n",
       "    }\n",
       "\n",
       "    .dataframe thead th {\n",
       "        text-align: right;\n",
       "    }\n",
       "</style>\n",
       "<table border=\"1\" class=\"dataframe\">\n",
       "  <thead>\n",
       "    <tr style=\"text-align: right;\">\n",
       "      <th></th>\n",
       "      <th>movieId</th>\n",
       "      <th>title</th>\n",
       "      <th>genres</th>\n",
       "    </tr>\n",
       "  </thead>\n",
       "  <tbody>\n",
       "    <tr>\n",
       "      <th>12922</th>\n",
       "      <td>61116</td>\n",
       "      <td>Black Caesar (1973)</td>\n",
       "      <td>[crime, drama]</td>\n",
       "    </tr>\n",
       "    <tr>\n",
       "      <th>14085</th>\n",
       "      <td>70697</td>\n",
       "      <td>G-Force (2009)</td>\n",
       "      <td>[action, adventure, children, fantasy]</td>\n",
       "    </tr>\n",
       "    <tr>\n",
       "      <th>23517</th>\n",
       "      <td>111931</td>\n",
       "      <td>Raze (2013)</td>\n",
       "      <td>[action, horror]</td>\n",
       "    </tr>\n",
       "  </tbody>\n",
       "</table>\n",
       "</div>"
      ],
      "text/plain": [
       "       movieId                title                                  genres\n",
       "12922    61116  Black Caesar (1973)                          [crime, drama]\n",
       "14085    70697       G-Force (2009)  [action, adventure, children, fantasy]\n",
       "23517   111931          Raze (2013)                        [action, horror]"
      ]
     },
     "execution_count": 38,
     "metadata": {},
     "output_type": "execute_result"
    }
   ],
   "source": [
    "movies.head(3)"
   ]
  },
  {
   "cell_type": "code",
   "execution_count": 39,
   "id": "855fec68-b3c1-4898-a2ff-12b687bcb2e8",
   "metadata": {},
   "outputs": [],
   "source": [
    "movies.to_csv(\"data/processed/df_movies.csv\")"
   ]
  },
  {
   "cell_type": "markdown",
   "id": "9df7aaea-9a92-43c3-9dcd-08d616e0daa9",
   "metadata": {},
   "source": [
    "### 🧾 Metadata"
   ]
  },
  {
   "cell_type": "code",
   "execution_count": 40,
   "id": "e3511cca-5d8d-459b-9203-d6447407f255",
   "metadata": {},
   "outputs": [],
   "source": [
    "metadata['directedBy'] = metadata['directedBy'].apply(lambda x : x.strip().lower())\n",
    "metadata['starring'] = metadata['starring'].apply(lambda x : [x.strip().lower()])"
   ]
  },
  {
   "cell_type": "code",
   "execution_count": 41,
   "id": "c5e498fa-dec4-47b2-9cc4-b3f1c123208b",
   "metadata": {},
   "outputs": [
    {
     "data": {
      "text/html": [
       "<div>\n",
       "<style scoped>\n",
       "    .dataframe tbody tr th:only-of-type {\n",
       "        vertical-align: middle;\n",
       "    }\n",
       "\n",
       "    .dataframe tbody tr th {\n",
       "        vertical-align: top;\n",
       "    }\n",
       "\n",
       "    .dataframe thead th {\n",
       "        text-align: right;\n",
       "    }\n",
       "</style>\n",
       "<table border=\"1\" class=\"dataframe\">\n",
       "  <thead>\n",
       "    <tr style=\"text-align: right;\">\n",
       "      <th></th>\n",
       "      <th>title</th>\n",
       "      <th>directedBy</th>\n",
       "      <th>starring</th>\n",
       "      <th>avgRating</th>\n",
       "      <th>imdbId</th>\n",
       "      <th>item_id</th>\n",
       "    </tr>\n",
       "  </thead>\n",
       "  <tbody>\n",
       "    <tr>\n",
       "      <th>0</th>\n",
       "      <td>Toy Story (1995)</td>\n",
       "      <td>john lasseter</td>\n",
       "      <td>[tim allen, tom hanks, don rickles, jim varney...</td>\n",
       "      <td>3.89146</td>\n",
       "      <td>114709</td>\n",
       "      <td>1</td>\n",
       "    </tr>\n",
       "    <tr>\n",
       "      <th>1</th>\n",
       "      <td>Jumanji (1995)</td>\n",
       "      <td>joe johnston</td>\n",
       "      <td>[jonathan hyde, bradley pierce, robin williams...</td>\n",
       "      <td>3.26605</td>\n",
       "      <td>113497</td>\n",
       "      <td>2</td>\n",
       "    </tr>\n",
       "    <tr>\n",
       "      <th>2</th>\n",
       "      <td>Grumpier Old Men (1995)</td>\n",
       "      <td>howard deutch</td>\n",
       "      <td>[jack lemmon, walter matthau, ann-margret , so...</td>\n",
       "      <td>3.17146</td>\n",
       "      <td>113228</td>\n",
       "      <td>3</td>\n",
       "    </tr>\n",
       "  </tbody>\n",
       "</table>\n",
       "</div>"
      ],
      "text/plain": [
       "                     title     directedBy  \\\n",
       "0         Toy Story (1995)  john lasseter   \n",
       "1           Jumanji (1995)   joe johnston   \n",
       "2  Grumpier Old Men (1995)  howard deutch   \n",
       "\n",
       "                                            starring  avgRating  imdbId  \\\n",
       "0  [tim allen, tom hanks, don rickles, jim varney...    3.89146  114709   \n",
       "1  [jonathan hyde, bradley pierce, robin williams...    3.26605  113497   \n",
       "2  [jack lemmon, walter matthau, ann-margret , so...    3.17146  113228   \n",
       "\n",
       "   item_id  \n",
       "0        1  \n",
       "1        2  \n",
       "2        3  "
      ]
     },
     "execution_count": 41,
     "metadata": {},
     "output_type": "execute_result"
    }
   ],
   "source": [
    "metadata.head(3)"
   ]
  },
  {
   "cell_type": "code",
   "execution_count": 42,
   "id": "c8845d61-9b88-4184-b8dc-7d3447ca3752",
   "metadata": {},
   "outputs": [],
   "source": [
    "metadata.to_csv(\"data/processed/df_metadata.csv\")"
   ]
  },
  {
   "cell_type": "markdown",
   "id": "48039a64-cd2b-40c6-a440-09d9f5a0e211",
   "metadata": {},
   "source": [
    "### 📝 reviews_sample"
   ]
  },
  {
   "cell_type": "code",
   "execution_count": 43,
   "id": "49a77d8d-b515-4fc7-a8bc-d422fcf2cb50",
   "metadata": {},
   "outputs": [
    {
     "data": {
      "text/html": [
       "<div>\n",
       "<style scoped>\n",
       "    .dataframe tbody tr th:only-of-type {\n",
       "        vertical-align: middle;\n",
       "    }\n",
       "\n",
       "    .dataframe tbody tr th {\n",
       "        vertical-align: top;\n",
       "    }\n",
       "\n",
       "    .dataframe thead th {\n",
       "        text-align: right;\n",
       "    }\n",
       "</style>\n",
       "<table border=\"1\" class=\"dataframe\">\n",
       "  <thead>\n",
       "    <tr style=\"text-align: right;\">\n",
       "      <th></th>\n",
       "      <th>item_id</th>\n",
       "      <th>txt</th>\n",
       "    </tr>\n",
       "  </thead>\n",
       "  <tbody>\n",
       "    <tr>\n",
       "      <th>0</th>\n",
       "      <td>1</td>\n",
       "      <td>The pioneer of animation movies.; This was the...</td>\n",
       "    </tr>\n",
       "    <tr>\n",
       "      <th>1</th>\n",
       "      <td>1</td>\n",
       "      <td>The masterpiece that started it all; I remembe...</td>\n",
       "    </tr>\n",
       "    <tr>\n",
       "      <th>2</th>\n",
       "      <td>1</td>\n",
       "      <td>A magnificent milestone in animation!; Toy Sto...</td>\n",
       "    </tr>\n",
       "    <tr>\n",
       "      <th>3</th>\n",
       "      <td>1</td>\n",
       "      <td>Good and groundbreaking; Good and groundbreaki...</td>\n",
       "    </tr>\n",
       "    <tr>\n",
       "      <th>4</th>\n",
       "      <td>1</td>\n",
       "      <td>Great Movie; All kids should watch this movie....</td>\n",
       "    </tr>\n",
       "  </tbody>\n",
       "</table>\n",
       "</div>"
      ],
      "text/plain": [
       "   item_id                                                txt\n",
       "0        1  The pioneer of animation movies.; This was the...\n",
       "1        1  The masterpiece that started it all; I remembe...\n",
       "2        1  A magnificent milestone in animation!; Toy Sto...\n",
       "3        1  Good and groundbreaking; Good and groundbreaki...\n",
       "4        1  Great Movie; All kids should watch this movie...."
      ]
     },
     "execution_count": 43,
     "metadata": {},
     "output_type": "execute_result"
    }
   ],
   "source": [
    "reviews_sample.head()"
   ]
  },
  {
   "cell_type": "code",
   "execution_count": 44,
   "id": "1dc19c9f-d335-4c8d-b468-c3492e67f1f1",
   "metadata": {},
   "outputs": [],
   "source": [
    "reviews_sample['review'] = reviews_sample['txt'].apply(lambda x : x.strip().lower().replace(\";\",\"\"))"
   ]
  },
  {
   "cell_type": "code",
   "execution_count": 45,
   "id": "45802c5a-5cf4-426f-aedf-c3c469793766",
   "metadata": {},
   "outputs": [
    {
     "data": {
      "text/html": [
       "<div>\n",
       "<style scoped>\n",
       "    .dataframe tbody tr th:only-of-type {\n",
       "        vertical-align: middle;\n",
       "    }\n",
       "\n",
       "    .dataframe tbody tr th {\n",
       "        vertical-align: top;\n",
       "    }\n",
       "\n",
       "    .dataframe thead th {\n",
       "        text-align: right;\n",
       "    }\n",
       "</style>\n",
       "<table border=\"1\" class=\"dataframe\">\n",
       "  <thead>\n",
       "    <tr style=\"text-align: right;\">\n",
       "      <th></th>\n",
       "      <th>item_id</th>\n",
       "      <th>txt</th>\n",
       "      <th>review</th>\n",
       "    </tr>\n",
       "  </thead>\n",
       "  <tbody>\n",
       "    <tr>\n",
       "      <th>0</th>\n",
       "      <td>1</td>\n",
       "      <td>The pioneer of animation movies.; This was the...</td>\n",
       "      <td>the pioneer of animation movies. this was the ...</td>\n",
       "    </tr>\n",
       "    <tr>\n",
       "      <th>1</th>\n",
       "      <td>1</td>\n",
       "      <td>The masterpiece that started it all; I remembe...</td>\n",
       "      <td>the masterpiece that started it all i remember...</td>\n",
       "    </tr>\n",
       "    <tr>\n",
       "      <th>2</th>\n",
       "      <td>1</td>\n",
       "      <td>A magnificent milestone in animation!; Toy Sto...</td>\n",
       "      <td>a magnificent milestone in animation! toy stor...</td>\n",
       "    </tr>\n",
       "  </tbody>\n",
       "</table>\n",
       "</div>"
      ],
      "text/plain": [
       "   item_id                                                txt  \\\n",
       "0        1  The pioneer of animation movies.; This was the...   \n",
       "1        1  The masterpiece that started it all; I remembe...   \n",
       "2        1  A magnificent milestone in animation!; Toy Sto...   \n",
       "\n",
       "                                              review  \n",
       "0  the pioneer of animation movies. this was the ...  \n",
       "1  the masterpiece that started it all i remember...  \n",
       "2  a magnificent milestone in animation! toy stor...  "
      ]
     },
     "execution_count": 45,
     "metadata": {},
     "output_type": "execute_result"
    }
   ],
   "source": [
    "reviews_sample.head(3)"
   ]
  },
  {
   "cell_type": "code",
   "execution_count": 46,
   "id": "d61f8dec-5651-4610-8765-fe9c9d0923e5",
   "metadata": {},
   "outputs": [],
   "source": [
    "# Utility function to remove duplicates while preserving order\n",
    "def unique_preserve_order(review_list):\n",
    "    seen = set()\n",
    "    return [review for review in review_list if not (review in seen or seen.add(review))]"
   ]
  },
  {
   "cell_type": "code",
   "execution_count": 47,
   "id": "18db7959-4d16-48e7-8842-8b52b362dee7",
   "metadata": {},
   "outputs": [],
   "source": [
    "# Aggregate tag_1 by movieId → get list of tags (no duplicates)\n",
    "df_reviews = (\n",
    "    reviews_sample.sort_values(by=['item_id'])  # Optional: sort to keep consistency\n",
    "    .groupby('item_id')['review']\n",
    "    .apply(lambda reviews: unique_preserve_order(list(reviews)))\n",
    "    .reset_index()\n",
    ")"
   ]
  },
  {
   "cell_type": "code",
   "execution_count": 48,
   "id": "b38667f2-9cf9-4da2-8ad2-8b96cb71da55",
   "metadata": {},
   "outputs": [
    {
     "data": {
      "text/html": [
       "<div>\n",
       "<style scoped>\n",
       "    .dataframe tbody tr th:only-of-type {\n",
       "        vertical-align: middle;\n",
       "    }\n",
       "\n",
       "    .dataframe tbody tr th {\n",
       "        vertical-align: top;\n",
       "    }\n",
       "\n",
       "    .dataframe thead th {\n",
       "        text-align: right;\n",
       "    }\n",
       "</style>\n",
       "<table border=\"1\" class=\"dataframe\">\n",
       "  <thead>\n",
       "    <tr style=\"text-align: right;\">\n",
       "      <th></th>\n",
       "      <th>item_id</th>\n",
       "      <th>review</th>\n",
       "    </tr>\n",
       "  </thead>\n",
       "  <tbody>\n",
       "    <tr>\n",
       "      <th>0</th>\n",
       "      <td>1</td>\n",
       "      <td>[the pioneer of animation movies. this was the...</td>\n",
       "    </tr>\n",
       "    <tr>\n",
       "      <th>1</th>\n",
       "      <td>2</td>\n",
       "      <td>[pretty good, except... jumanji is an enjoyabl...</td>\n",
       "    </tr>\n",
       "    <tr>\n",
       "      <th>2</th>\n",
       "      <td>3</td>\n",
       "      <td>[as good as the original some people see this ...</td>\n",
       "    </tr>\n",
       "  </tbody>\n",
       "</table>\n",
       "</div>"
      ],
      "text/plain": [
       "   item_id                                             review\n",
       "0        1  [the pioneer of animation movies. this was the...\n",
       "1        2  [pretty good, except... jumanji is an enjoyabl...\n",
       "2        3  [as good as the original some people see this ..."
      ]
     },
     "execution_count": 48,
     "metadata": {},
     "output_type": "execute_result"
    }
   ],
   "source": [
    "df_reviews.head(3)"
   ]
  },
  {
   "cell_type": "code",
   "execution_count": 49,
   "id": "a7704ecb-f6f7-4b6e-81b6-8c76e83fecdf",
   "metadata": {},
   "outputs": [],
   "source": [
    "df_reviews.to_csv(\"data/processed/df_reviews_sample.csv\")"
   ]
  },
  {
   "cell_type": "markdown",
   "id": "7dab0e21-69b4-4f3d-860e-766d5c9e9dfd",
   "metadata": {},
   "source": [
    "### ⭐ Ratings"
   ]
  },
  {
   "cell_type": "code",
   "execution_count": 50,
   "id": "b3214762-c8f9-4d69-92f9-70a5f709c605",
   "metadata": {},
   "outputs": [
    {
     "data": {
      "text/html": [
       "<div>\n",
       "<style scoped>\n",
       "    .dataframe tbody tr th:only-of-type {\n",
       "        vertical-align: middle;\n",
       "    }\n",
       "\n",
       "    .dataframe tbody tr th {\n",
       "        vertical-align: top;\n",
       "    }\n",
       "\n",
       "    .dataframe thead th {\n",
       "        text-align: right;\n",
       "    }\n",
       "</style>\n",
       "<table border=\"1\" class=\"dataframe\">\n",
       "  <thead>\n",
       "    <tr style=\"text-align: right;\">\n",
       "      <th></th>\n",
       "      <th>userId</th>\n",
       "      <th>movieId</th>\n",
       "      <th>rating</th>\n",
       "      <th>timestamp</th>\n",
       "    </tr>\n",
       "  </thead>\n",
       "  <tbody>\n",
       "    <tr>\n",
       "      <th>4834169</th>\n",
       "      <td>33218</td>\n",
       "      <td>1</td>\n",
       "      <td>5.0</td>\n",
       "      <td>1997-04-03 22:17:32</td>\n",
       "    </tr>\n",
       "    <tr>\n",
       "      <th>1716733</th>\n",
       "      <td>11586</td>\n",
       "      <td>1</td>\n",
       "      <td>3.0</td>\n",
       "      <td>2009-01-09 21:44:52</td>\n",
       "    </tr>\n",
       "    <tr>\n",
       "      <th>7170935</th>\n",
       "      <td>49444</td>\n",
       "      <td>1</td>\n",
       "      <td>4.0</td>\n",
       "      <td>2003-02-03 22:37:10</td>\n",
       "    </tr>\n",
       "  </tbody>\n",
       "</table>\n",
       "</div>"
      ],
      "text/plain": [
       "         userId  movieId  rating           timestamp\n",
       "4834169   33218        1     5.0 1997-04-03 22:17:32\n",
       "1716733   11586        1     3.0 2009-01-09 21:44:52\n",
       "7170935   49444        1     4.0 2003-02-03 22:37:10"
      ]
     },
     "execution_count": 50,
     "metadata": {},
     "output_type": "execute_result"
    }
   ],
   "source": [
    "ratings_sample.head(3)"
   ]
  },
  {
   "cell_type": "code",
   "execution_count": 51,
   "id": "4710e359-d417-4967-911d-e79561c9adcd",
   "metadata": {},
   "outputs": [],
   "source": [
    "timestamp_s = ratings_sample['timestamp'].map(pd.Timestamp.timestamp)"
   ]
  },
  {
   "cell_type": "code",
   "execution_count": 52,
   "id": "d9d7b277-eafc-4bf0-ae87-439a9e0e6f07",
   "metadata": {},
   "outputs": [],
   "source": [
    "day = 24 * 60 * 60\n",
    "year = 365.2425 * day  # Accounting for leap years\n",
    "\n",
    "ratings_sample.loc[:, 'Day sin'] = np.sin(timestamp_s * (2 * np.pi / day))\n",
    "ratings_sample.loc[:, 'Day cos'] = np.cos(timestamp_s * (2 * np.pi / day))\n",
    "ratings_sample.loc[:, 'Year sin'] = np.sin(timestamp_s * (2 * np.pi / year))\n",
    "ratings_sample.loc[:, 'Year cos'] = np.cos(timestamp_s * (2 * np.pi / year))"
   ]
  },
  {
   "cell_type": "code",
   "execution_count": 53,
   "id": "31f3d5bc-c84d-4b85-96b8-b2e17931e219",
   "metadata": {},
   "outputs": [
    {
     "data": {
      "text/html": [
       "<div>\n",
       "<style scoped>\n",
       "    .dataframe tbody tr th:only-of-type {\n",
       "        vertical-align: middle;\n",
       "    }\n",
       "\n",
       "    .dataframe tbody tr th {\n",
       "        vertical-align: top;\n",
       "    }\n",
       "\n",
       "    .dataframe thead th {\n",
       "        text-align: right;\n",
       "    }\n",
       "</style>\n",
       "<table border=\"1\" class=\"dataframe\">\n",
       "  <thead>\n",
       "    <tr style=\"text-align: right;\">\n",
       "      <th></th>\n",
       "      <th>userId</th>\n",
       "      <th>movieId</th>\n",
       "      <th>rating</th>\n",
       "      <th>timestamp</th>\n",
       "      <th>Day sin</th>\n",
       "      <th>Day cos</th>\n",
       "      <th>Year sin</th>\n",
       "      <th>Year cos</th>\n",
       "    </tr>\n",
       "  </thead>\n",
       "  <tbody>\n",
       "    <tr>\n",
       "      <th>4834169</th>\n",
       "      <td>33218</td>\n",
       "      <td>1</td>\n",
       "      <td>5.0</td>\n",
       "      <td>1997-04-03 22:17:32</td>\n",
       "      <td>-0.432348</td>\n",
       "      <td>0.901707</td>\n",
       "      <td>0.999366</td>\n",
       "      <td>-0.035615</td>\n",
       "    </tr>\n",
       "    <tr>\n",
       "      <th>1716733</th>\n",
       "      <td>11586</td>\n",
       "      <td>1</td>\n",
       "      <td>3.0</td>\n",
       "      <td>2009-01-09 21:44:52</td>\n",
       "      <td>-0.556054</td>\n",
       "      <td>0.831146</td>\n",
       "      <td>0.161828</td>\n",
       "      <td>0.986819</td>\n",
       "    </tr>\n",
       "    <tr>\n",
       "      <th>7170935</th>\n",
       "      <td>49444</td>\n",
       "      <td>1</td>\n",
       "      <td>4.0</td>\n",
       "      <td>2003-02-03 22:37:10</td>\n",
       "      <td>-0.353611</td>\n",
       "      <td>0.935393</td>\n",
       "      <td>0.551250</td>\n",
       "      <td>0.834340</td>\n",
       "    </tr>\n",
       "  </tbody>\n",
       "</table>\n",
       "</div>"
      ],
      "text/plain": [
       "         userId  movieId  rating           timestamp   Day sin   Day cos  \\\n",
       "4834169   33218        1     5.0 1997-04-03 22:17:32 -0.432348  0.901707   \n",
       "1716733   11586        1     3.0 2009-01-09 21:44:52 -0.556054  0.831146   \n",
       "7170935   49444        1     4.0 2003-02-03 22:37:10 -0.353611  0.935393   \n",
       "\n",
       "         Year sin  Year cos  \n",
       "4834169  0.999366 -0.035615  \n",
       "1716733  0.161828  0.986819  \n",
       "7170935  0.551250  0.834340  "
      ]
     },
     "execution_count": 53,
     "metadata": {},
     "output_type": "execute_result"
    }
   ],
   "source": [
    "ratings_sample.head(3)"
   ]
  },
  {
   "cell_type": "code",
   "execution_count": 54,
   "id": "dc1e80d8-ab43-460e-9ea2-2f8c9c273565",
   "metadata": {},
   "outputs": [
    {
     "name": "stdout",
     "output_type": "stream",
     "text": [
      "<class 'pandas.core.frame.DataFrame'>\n",
      "Index: 1998483 entries, 4834169 to 8504617\n",
      "Data columns (total 8 columns):\n",
      " #   Column     Dtype         \n",
      "---  ------     -----         \n",
      " 0   userId     int64         \n",
      " 1   movieId    int64         \n",
      " 2   rating     float64       \n",
      " 3   timestamp  datetime64[ns]\n",
      " 4   Day sin    float64       \n",
      " 5   Day cos    float64       \n",
      " 6   Year sin   float64       \n",
      " 7   Year cos   float64       \n",
      "dtypes: datetime64[ns](1), float64(5), int64(2)\n",
      "memory usage: 137.2 MB\n"
     ]
    }
   ],
   "source": [
    "ratings_sample.info()"
   ]
  },
  {
   "cell_type": "code",
   "execution_count": 55,
   "id": "1e4184cd-5157-4034-906a-1e088b6bd24c",
   "metadata": {},
   "outputs": [],
   "source": [
    "ratings_sample.to_csv(\"data/processed/df_ratings_sample.csv\")"
   ]
  },
  {
   "cell_type": "markdown",
   "id": "8755ebf6-b6cf-4878-b581-c82e1c333c7e",
   "metadata": {},
   "source": [
    "### Merging the data"
   ]
  },
  {
   "cell_type": "code",
   "execution_count": 56,
   "id": "6390a0f4-d90e-4462-8a08-970eaf3d4b9b",
   "metadata": {},
   "outputs": [],
   "source": [
    "# Merge tags with movies → enrich movies with tag data\n",
    "df_movies_tags = pd.merge(movies, df_tags, on=\"movieId\")\n",
    "\n",
    "# Merge with metadata → enrich with director, starring, item_id\n",
    "df_movies_tags_meta = pd.merge(df_movies_tags, metadata, left_on=\"movieId\", right_on=\"item_id\")\n",
    "\n",
    "# Merge with reviews → attach textual reviews\n",
    "df_movies_tags_meta_reviews = pd.merge(df_movies_tags_meta, df_reviews, on=\"item_id\")\n",
    "\n",
    "# Final merge with ratings → include user interaction data\n",
    "df_final = pd.merge(df_movies_tags_meta_reviews, ratings_sample, on=\"movieId\")"
   ]
  },
  {
   "cell_type": "code",
   "execution_count": 57,
   "id": "fcbde20c-8560-4f39-812b-c506333f861f",
   "metadata": {},
   "outputs": [],
   "source": [
    "df_final = df_final[['movieId', 'userId', 'genres', 'tag',  'directedBy', 'starring','review', 'rating', 'Day sin', 'Day cos', 'Year sin', 'Year cos']]"
   ]
  },
  {
   "cell_type": "code",
   "execution_count": 59,
   "id": "666353f2-5a4f-4c51-a046-e5b492a8899d",
   "metadata": {},
   "outputs": [
    {
     "data": {
      "text/html": [
       "<div>\n",
       "<style scoped>\n",
       "    .dataframe tbody tr th:only-of-type {\n",
       "        vertical-align: middle;\n",
       "    }\n",
       "\n",
       "    .dataframe tbody tr th {\n",
       "        vertical-align: top;\n",
       "    }\n",
       "\n",
       "    .dataframe thead th {\n",
       "        text-align: right;\n",
       "    }\n",
       "</style>\n",
       "<table border=\"1\" class=\"dataframe\">\n",
       "  <thead>\n",
       "    <tr style=\"text-align: right;\">\n",
       "      <th></th>\n",
       "      <th>movieId</th>\n",
       "      <th>userId</th>\n",
       "      <th>genres</th>\n",
       "      <th>tag</th>\n",
       "      <th>directedBy</th>\n",
       "      <th>starring</th>\n",
       "      <th>review</th>\n",
       "      <th>rating</th>\n",
       "      <th>Day sin</th>\n",
       "      <th>Day cos</th>\n",
       "      <th>Year sin</th>\n",
       "      <th>Year cos</th>\n",
       "    </tr>\n",
       "  </thead>\n",
       "  <tbody>\n",
       "    <tr>\n",
       "      <th>0</th>\n",
       "      <td>61116</td>\n",
       "      <td>130459</td>\n",
       "      <td>[crime, drama]</td>\n",
       "      <td>[blaxploitation]</td>\n",
       "      <td>larry cohen</td>\n",
       "      <td>[fred williamson, gloria hendry, art lund, d'u...</td>\n",
       "      <td>[great black movie of the 70s!! this was a gre...</td>\n",
       "      <td>2.5</td>\n",
       "      <td>0.12793</td>\n",
       "      <td>0.991783</td>\n",
       "      <td>0.968119</td>\n",
       "      <td>0.250489</td>\n",
       "    </tr>\n",
       "  </tbody>\n",
       "</table>\n",
       "</div>"
      ],
      "text/plain": [
       "   movieId  userId          genres               tag   directedBy  \\\n",
       "0    61116  130459  [crime, drama]  [blaxploitation]  larry cohen   \n",
       "\n",
       "                                            starring  \\\n",
       "0  [fred williamson, gloria hendry, art lund, d'u...   \n",
       "\n",
       "                                              review  rating  Day sin  \\\n",
       "0  [great black movie of the 70s!! this was a gre...     2.5  0.12793   \n",
       "\n",
       "    Day cos  Year sin  Year cos  \n",
       "0  0.991783  0.968119  0.250489  "
      ]
     },
     "execution_count": 59,
     "metadata": {},
     "output_type": "execute_result"
    }
   ],
   "source": [
    "df_final.head(1)"
   ]
  },
  {
   "cell_type": "code",
   "execution_count": 61,
   "id": "835518a2-4e69-4472-bdce-a3b647a2e50c",
   "metadata": {},
   "outputs": [],
   "source": [
    "df_final.dropna(inplace = True)"
   ]
  },
  {
   "cell_type": "markdown",
   "id": "fec7fc8c-442b-4200-acfe-ff24041ad1b0",
   "metadata": {},
   "source": [
    "## Encoding and Embedding data"
   ]
  },
  {
   "cell_type": "markdown",
   "id": "28fe064d-d8f2-4466-9e5d-6ef05fd68042",
   "metadata": {},
   "source": [
    "### 🔢 Encode Labels\n",
    "\n",
    "To prepare our data for collaborative filtering, we need to convert categorical identifiers like **`userId`** and **`movieId`** into integer indices that can be passed into embedding layers.\n",
    "\n",
    "We use `LabelEncoder` from `sklearn` for this purpose:\n",
    "\n",
    "- **`userId`** → becomes a user index\n",
    "- **`movieId`** → becomes a movie index\n",
    "\n",
    "These integer labels are later used by `nn.Embedding` layers in the model.\n",
    "\n",
    "> ⚠️ **Note:**  \n",
    "We can safely apply this encoding **before splitting** the data into train/val/test sets. This is because:\n",
    "- The IDs are **categorical**, not **learnable features**\n",
    "- The model doesn't \"learn\" from the IDs themselves — it just uses them as **indices** to look up learned embeddings\n",
    "- There's no data leakage, since we're not leaking any information about the rating values or user behavior — just mapping IDs to indices\n",
    "\n",
    "This step ensures a consistent indexing scheme across the dataset and simplifies model training."
   ]
  },
  {
   "cell_type": "code",
   "execution_count": 62,
   "id": "f2743f52-fa9f-4d9f-9199-03c2eee56c1b",
   "metadata": {},
   "outputs": [],
   "source": [
    "from sklearn.preprocessing import LabelEncoder\n",
    "\n",
    "user_encoder = LabelEncoder()\n",
    "movie_encoder = LabelEncoder()\n",
    "\n",
    "# Apply to the WHOLE dataset BEFORE any split\n",
    "df_final['user'] = user_encoder.fit_transform(df_final['userId'])\n",
    "df_final['movie'] = movie_encoder.fit_transform(df_final['movieId'])"
   ]
  },
  {
   "cell_type": "code",
   "execution_count": 63,
   "id": "78106d52-dc91-4728-9933-4684e2b3c576",
   "metadata": {},
   "outputs": [
    {
     "data": {
      "text/plain": [
       "(101541, 14)"
      ]
     },
     "execution_count": 63,
     "metadata": {},
     "output_type": "execute_result"
    }
   ],
   "source": [
    "df_final.shape"
   ]
  },
  {
   "cell_type": "markdown",
   "id": "56586945-ff11-448a-83d9-aa87e993bd5d",
   "metadata": {},
   "source": [
    "df_final is very large, we get only 5% of it."
   ]
  },
  {
   "cell_type": "code",
   "execution_count": 64,
   "id": "63a3e91f-1ba3-43a1-9924-d15e26fd7082",
   "metadata": {},
   "outputs": [],
   "source": [
    "df_final = df_final.groupby('movie', group_keys = False).sample(frac = 0.5, random_state = 42)"
   ]
  },
  {
   "cell_type": "code",
   "execution_count": 65,
   "id": "425cd5e4-f4ef-4adf-bb6b-e8930d5ae3e2",
   "metadata": {},
   "outputs": [
    {
     "data": {
      "text/plain": [
       "(50731, 14)"
      ]
     },
     "execution_count": 65,
     "metadata": {},
     "output_type": "execute_result"
    }
   ],
   "source": [
    "df_final.shape"
   ]
  },
  {
   "cell_type": "markdown",
   "id": "5a0a567f-6219-41dd-8204-aae638e4cb0c",
   "metadata": {},
   "source": [
    "### 🧠 Create Semantic Embeddings\n",
    "\n",
    "To enrich our model with **content-based information**, we embed high-level textual features using a **pre-trained SentenceTransformer** model.\n",
    "\n",
    "We generate embeddings for the following fields:\n",
    "- 🎬 **Genres**\n",
    "- #️⃣ **Tags**\n",
    "- 🎥 **DirectedBy**\n",
    "- 👥 **Starring (Cast)**\n",
    "\n",
    "These embeddings are created using models like `all-MiniLM-L6-v2` from [SentenceTransformers](https://www.sbert.net/), which are trained to capture semantic similarity between phrases.\n",
    "\n",
    "---\n",
    "\n",
    "🧊 **Why It's Safe to Embed *Before* Splitting**\n",
    "\n",
    "> 💡 Unlike neural network layers that are trained during model fitting, **SentenceTransformer models are frozen** — they don't update weights based on your dataset.\n",
    "\n",
    "- ✅ **No data leakage** occurs since we're not learning from the data itself.\n",
    "- ✅ Embeddings are generated purely based on **pre-trained language knowledge**, not on labels (like ratings).\n",
    "\n",
    "---\n",
    "\n",
    "🔁 **Attention over Tokens (Not Order)**\n",
    "\n",
    "Traditional tokenizers or label encoders treat `\"sci-fi thriller\"` and `\"thriller sci-fi\"` as different inputs.\n",
    "\n",
    "But thanks to the **attention mechanism** inside SentenceTransformers:\n",
    "- Both phrases result in **similar embeddings**\n",
    "- The model captures **semantic meaning**, not just word order\n",
    "\n",
    "This makes these embeddings ideal for use in a hybrid recommender system, where nuanced text understanding boosts recommendation quality."
   ]
  },
  {
   "cell_type": "code",
   "execution_count": 66,
   "id": "2dcadc22-7def-40a7-889d-9a6d2da6bd0d",
   "metadata": {},
   "outputs": [],
   "source": [
    "from sentence_transformers import SentenceTransformer\n",
    "model_emb = SentenceTransformer('all-MiniLM-L6-v2')"
   ]
  },
  {
   "cell_type": "code",
   "execution_count": 67,
   "id": "d86b37e7-94ff-4305-a86c-8c3e932bc36c",
   "metadata": {},
   "outputs": [],
   "source": [
    "df_final['tags_emb'] = df_final['tag'].map(\n",
    "    lambda lst: model_emb.encode(\" \".join(sorted([str(tag) for tag in lst if isinstance(tag, str)]))) if isinstance(lst, list) else model_emb.encode(\"\")\n",
    ")\n",
    "\n",
    "df_final['genres_emb'] = df_final['genres'].map(\n",
    "    lambda lst: model_emb.encode(\" \".join(sorted([str(g) for g in lst if isinstance(g, str)]))) if isinstance(lst, list) else model_emb.encode(\"\")\n",
    ")\n",
    "\n",
    "df_final['director_emb'] = df_final['directedBy'].map(\n",
    "    lambda lst: model_emb.encode(\" \".join(sorted([str(g) for g in lst if isinstance(g, str)]))) if isinstance(lst, list) else model_emb.encode(\"\")\n",
    ")\n",
    "\n",
    "df_final['starring_emb'] = df_final['starring'].map(\n",
    "    lambda lst: model_emb.encode(\" \".join(sorted([str(g) for g in lst if isinstance(g, str)]))) if isinstance(lst, list) else model_emb.encode(\"\")\n",
    ")\n",
    "\n",
    "df_final['review_emb'] = df_final['review'].map(\n",
    "    lambda lst: model_emb.encode(\" \".join(sorted([str(g) for g in lst if isinstance(g, str)]))) if isinstance(lst, list) else model_emb.encode(\"\")\n",
    ")"
   ]
  },
  {
   "cell_type": "markdown",
   "id": "3648a793-0fd4-40d5-9cab-7bc1dcc10642",
   "metadata": {},
   "source": [
    "### 💾 Load Preprocessed Dataset with Embedded Features\n",
    "\n",
    "If you've previously saved your fully processed dataset (including embedded features like genres, tags, and reviews), you can simply reload it from CSV without rerunning the entire preprocessing pipeline.\n",
    "\n",
    "Since embeddings are stored as stringified lists (e.g. `\"[0.12, -0.34, ...]\"`), we apply **parsing logic** to automatically convert them back into numerical lists upon loading.\n",
    "\n",
    "This ensures:\n",
    "- 🧠 Embedded columns like `tags_emb`, `genres_emb`, `director_emb`, `starring_emb`, and `review_emb` are restored to their proper format\n",
    "- 🏎️ Fast loading for training/testing without recomputing embeddings\n",
    "- ✅ Consistent data structure for downstream PyTorch `Dataset` and model input\n",
    "\n",
    "This step is especially useful when working with large datasets or when embedding generation is time-consuming."
   ]
  },
  {
   "cell_type": "code",
   "execution_count": 778,
   "id": "dc07d7ef-341e-496f-ba9e-3e41091658fc",
   "metadata": {},
   "outputs": [],
   "source": [
    "embedding_columns = [\n",
    "    'tags_emb', 'genres_emb', 'director_emb', 'starring_emb', 'review_emb'\n",
    "]\n",
    "\n",
    "# Define converters for each embedding column\n",
    "converters = {col: ast.literal_eval for col in embedding_columns}\n",
    "\n",
    "# Read CSV and auto-parse list-like strings\n",
    "df_final = pd.read_csv(\"data/df_final.csv\", index_col = 0)"
   ]
  },
  {
   "cell_type": "code",
   "execution_count": 798,
   "id": "d125d94f-8b16-48e5-b0f6-4e4c6688a24d",
   "metadata": {},
   "outputs": [],
   "source": [
    "embedding_columns = ['tags_emb', 'genres_emb', 'director_emb', 'starring_emb', 'review_emb']\n",
    "\n",
    "for col in embedding_columns:\n",
    "    df_final[col] = df_final[col].apply(\n",
    "        lambda x: np.fromstring(x.strip(\"[]\"), sep=\" \", dtype=np.float32) if isinstance(x, str) else x\n",
    "    )\n"
   ]
  },
  {
   "cell_type": "code",
   "execution_count": 68,
   "id": "7541a7d5-0a30-4aea-bca0-0dbd6536fb56",
   "metadata": {},
   "outputs": [
    {
     "data": {
      "text/html": [
       "<div>\n",
       "<style scoped>\n",
       "    .dataframe tbody tr th:only-of-type {\n",
       "        vertical-align: middle;\n",
       "    }\n",
       "\n",
       "    .dataframe tbody tr th {\n",
       "        vertical-align: top;\n",
       "    }\n",
       "\n",
       "    .dataframe thead th {\n",
       "        text-align: right;\n",
       "    }\n",
       "</style>\n",
       "<table border=\"1\" class=\"dataframe\">\n",
       "  <thead>\n",
       "    <tr style=\"text-align: right;\">\n",
       "      <th></th>\n",
       "      <th>movieId</th>\n",
       "      <th>userId</th>\n",
       "      <th>genres</th>\n",
       "      <th>tag</th>\n",
       "      <th>directedBy</th>\n",
       "      <th>starring</th>\n",
       "      <th>review</th>\n",
       "      <th>rating</th>\n",
       "      <th>Day sin</th>\n",
       "      <th>Day cos</th>\n",
       "      <th>Year sin</th>\n",
       "      <th>Year cos</th>\n",
       "      <th>user</th>\n",
       "      <th>movie</th>\n",
       "      <th>tags_emb</th>\n",
       "      <th>genres_emb</th>\n",
       "      <th>director_emb</th>\n",
       "      <th>starring_emb</th>\n",
       "      <th>review_emb</th>\n",
       "    </tr>\n",
       "  </thead>\n",
       "  <tbody>\n",
       "    <tr>\n",
       "      <th>98570</th>\n",
       "      <td>98</td>\n",
       "      <td>122607</td>\n",
       "      <td>[action, thriller]</td>\n",
       "      <td>[want to own, jude law, directorial debut]</td>\n",
       "      <td>paul w.s. anderson</td>\n",
       "      <td>[sadie frost, jude law, sean pertwee, sean bea...</td>\n",
       "      <td>[ram-raiding joy riding thrill seeking fun jud...</td>\n",
       "      <td>4.0</td>\n",
       "      <td>-0.290563</td>\n",
       "      <td>0.956856</td>\n",
       "      <td>0.037591</td>\n",
       "      <td>-0.999293</td>\n",
       "      <td>46789</td>\n",
       "      <td>0</td>\n",
       "      <td>[-0.019601567, -0.031717356, -0.021985551, -0....</td>\n",
       "      <td>[-0.0436603, -0.017041653, -0.0807151, 0.05877...</td>\n",
       "      <td>[-0.11883843, 0.04829872, -0.0025480906, -0.01...</td>\n",
       "      <td>[-0.037837047, -0.13291277, 0.059829786, -0.02...</td>\n",
       "      <td>[-0.072004735, -0.08433034, 0.035813972, -0.11...</td>\n",
       "    </tr>\n",
       "  </tbody>\n",
       "</table>\n",
       "</div>"
      ],
      "text/plain": [
       "       movieId  userId              genres  \\\n",
       "98570       98  122607  [action, thriller]   \n",
       "\n",
       "                                              tag          directedBy  \\\n",
       "98570  [want to own, jude law, directorial debut]  paul w.s. anderson   \n",
       "\n",
       "                                                starring  \\\n",
       "98570  [sadie frost, jude law, sean pertwee, sean bea...   \n",
       "\n",
       "                                                  review  rating   Day sin  \\\n",
       "98570  [ram-raiding joy riding thrill seeking fun jud...     4.0 -0.290563   \n",
       "\n",
       "        Day cos  Year sin  Year cos   user  movie  \\\n",
       "98570  0.956856  0.037591 -0.999293  46789      0   \n",
       "\n",
       "                                                tags_emb  \\\n",
       "98570  [-0.019601567, -0.031717356, -0.021985551, -0....   \n",
       "\n",
       "                                              genres_emb  \\\n",
       "98570  [-0.0436603, -0.017041653, -0.0807151, 0.05877...   \n",
       "\n",
       "                                            director_emb  \\\n",
       "98570  [-0.11883843, 0.04829872, -0.0025480906, -0.01...   \n",
       "\n",
       "                                            starring_emb  \\\n",
       "98570  [-0.037837047, -0.13291277, 0.059829786, -0.02...   \n",
       "\n",
       "                                              review_emb  \n",
       "98570  [-0.072004735, -0.08433034, 0.035813972, -0.11...  "
      ]
     },
     "execution_count": 68,
     "metadata": {},
     "output_type": "execute_result"
    }
   ],
   "source": [
    "df_final.head(1)"
   ]
  },
  {
   "cell_type": "code",
   "execution_count": 69,
   "id": "dc453226-50fa-434f-8991-106db0d238a7",
   "metadata": {},
   "outputs": [],
   "source": [
    "df_final.reset_index(drop = True, inplace = True)\n",
    "df_final.to_csv(\"data/processed/df_final.csv\")"
   ]
  },
  {
   "cell_type": "code",
   "execution_count": 70,
   "id": "b6397f50-5cd4-492a-a0a7-95c8828605ea",
   "metadata": {},
   "outputs": [],
   "source": [
    "df = df_final[['rating','Day sin', 'Day cos', 'Year sin', 'Year cos', 'user', 'movie',\n",
    "       'tags_emb', 'genres_emb', 'director_emb', 'starring_emb', 'review_emb']]"
   ]
  },
  {
   "cell_type": "markdown",
   "id": "4fd5c15d-256a-4a8b-8532-ed93e7be9805",
   "metadata": {},
   "source": [
    "## Data Split -> Dataset -> DataLoader"
   ]
  },
  {
   "cell_type": "markdown",
   "id": "dec5098c-eb30-4004-ae09-35564e849a7c",
   "metadata": {},
   "source": [
    "### 🔀 Split Data: Train / Validation / Test\n",
    "\n",
    "To evaluate the performance of our recommendation model fairly and avoid overfitting, we split the dataset into three parts:\n",
    "1. Training Set\n",
    "2. Validation Set \n",
    "3. Test Set\n",
    "\n",
    "- The split is done **after encoding** the IDs and (optionally) embedding the content features.\n",
    "- We ensure the split is **random but reproducible** by using a fixed `random_state`."
   ]
  },
  {
   "cell_type": "code",
   "execution_count": 71,
   "id": "947f72ea-6473-444d-a954-a8fa487ac0c4",
   "metadata": {},
   "outputs": [],
   "source": [
    "from sklearn.model_selection import train_test_split\n",
    "from torch.utils.data import DataLoader"
   ]
  },
  {
   "cell_type": "code",
   "execution_count": 72,
   "id": "dc0b1ba9-d9dc-4dff-9f16-2e64577ad1e9",
   "metadata": {},
   "outputs": [],
   "source": [
    "def data_split(df_final):\n",
    "    \"\"\"\n",
    "    split data into train, val and test datasets\n",
    "    \"\"\"\n",
    "    # Split into training+validation and test sets first\n",
    "    train_val_data, test_data = train_test_split(df_final, test_size=0.2, random_state=42)\n",
    "\n",
    "    # Then split train+validation into training and validation sets (e.g., 80/20 of the remaining)\n",
    "    train_data, val_data = train_test_split(train_val_data, test_size=0.25, random_state=42)  \n",
    "\n",
    "    return train_data, val_data, test_data"
   ]
  },
  {
   "cell_type": "code",
   "execution_count": 73,
   "id": "77b8c217-5a12-4488-b020-6624539d7974",
   "metadata": {},
   "outputs": [],
   "source": [
    "train_data, val_data, test_data = data_split(df)"
   ]
  },
  {
   "cell_type": "markdown",
   "id": "552afd8b-b720-4581-b4ce-904930cd33ba",
   "metadata": {},
   "source": [
    "### 📦 Create Datasets and DataLoaders\n",
    "\n",
    "We wrap the processed data into custom PyTorch `Dataset` objects and use `DataLoader` to efficiently batch, shuffle, and feed data into the model during training and evaluation."
   ]
  },
  {
   "cell_type": "code",
   "execution_count": 74,
   "id": "8dd528ac-60e1-4682-b611-81fb5d8985cc",
   "metadata": {},
   "outputs": [],
   "source": [
    "from torch.utils.data import Dataset, DataLoader\n",
    "\n",
    "class MovieLensDataset(Dataset):\n",
    "    # Initialize the data objects\n",
    "    def __init__(self, data):\n",
    "        self.users = torch.tensor(data['user'].values, dtype=torch.long)    # integers\n",
    "        self.movies = torch.tensor(data['movie'].values, dtype=torch.long)   # integers\n",
    "        self.ratings = torch.tensor(data['rating'].values, dtype=torch.float32)\n",
    "        self.Daysin = torch.tensor(data['Day sin'].values, dtype=torch.float32)\n",
    "        self.Daycos = torch.tensor(data['Day cos'].values, dtype=torch.float32)\n",
    "        self.Yearsin = torch.tensor(data['Year sin'].values, dtype=torch.float32)\n",
    "        self.Yearcos = torch.tensor(data['Year cos'].values, dtype=torch.float32)\n",
    "        self.tags_emb = torch.tensor(np.stack(data['tags_emb'].values), dtype=torch.float32)\n",
    "        self.genres_emb = torch.tensor(np.stack(data['genres_emb'].values), dtype=torch.float32)\n",
    "        self.director_emb = torch.tensor(np.stack(data['director_emb'].values), dtype=torch.float32)\n",
    "        self.starring_emb = torch.tensor(np.stack(data['starring_emb'].values), dtype=torch.float32)\n",
    "        self.review_emb = torch.tensor(np.stack(data['review_emb'].values), dtype=torch.float32)\n",
    "\n",
    "\n",
    "    # Return the total number of samples\n",
    "    def __len__(self):\n",
    "        return len(self.ratings)\n",
    "\n",
    "    # Get a single sample for a given index\n",
    "    def __getitem__(self, idx):\n",
    "        return (\n",
    "            self.users[idx],\n",
    "            self.movies[idx],\n",
    "            self.ratings[idx],\n",
    "            self.Daysin[idx],\n",
    "            self.Daycos[idx],\n",
    "            self.Yearsin[idx],\n",
    "            self.Yearcos[idx],\n",
    "            self.tags_emb[idx],\n",
    "            self.genres_emb[idx],\n",
    "            self.director_emb[idx],\n",
    "            self.starring_emb[idx],\n",
    "            self.review_emb[idx],)"
   ]
  },
  {
   "cell_type": "code",
   "execution_count": 75,
   "id": "673a5465-4e5b-4355-acca-f10d5bab1b91",
   "metadata": {},
   "outputs": [],
   "source": [
    "def make_dataloader(df):\n",
    "    dataset = MovieLensDataset(df)\n",
    "    data_loader = DataLoader(dataset, batch_size=64, shuffle=True)\n",
    "    return data_loader"
   ]
  },
  {
   "cell_type": "code",
   "execution_count": 76,
   "id": "6d36f406-2947-49cb-beb8-bf76e519df2e",
   "metadata": {},
   "outputs": [],
   "source": [
    "train_loader = make_dataloader(train_data)\n",
    "val_loader = make_dataloader(val_data)\n",
    "test_loader = make_dataloader(test_data)"
   ]
  },
  {
   "cell_type": "code",
   "execution_count": 77,
   "id": "44ee0799-0319-45da-89eb-04278ffa24a0",
   "metadata": {},
   "outputs": [
    {
     "name": "stdout",
     "output_type": "stream",
     "text": [
      "torch.Size([64, 384])\n"
     ]
    }
   ],
   "source": [
    "for batch in train_loader:\n",
    "    users, movies, ratings, daysin, daycos, yearsin, yearcos, tags_emb, genres_emb, director_emb, starring_emb, review_emb = batch\n",
    "\n",
    "    print(review_emb.shape)\n",
    "    break\n"
   ]
  },
  {
   "cell_type": "markdown",
   "id": "1d64cc25-b2ea-41cc-bf1d-88609f335933",
   "metadata": {},
   "source": [
    "## 🧠 Model\n",
    "\n",
    "We define a hybrid recommendation model that combines **collaborative filtering** (user and movie embeddings) with **content-based features** (e.g. tags, genres, reviews). These inputs are concatenated and passed through fully connected layers to predict user ratings."
   ]
  },
  {
   "cell_type": "code",
   "execution_count": 78,
   "id": "8d4c3d4e-c4a3-4a33-ab9e-5b64ac94b88a",
   "metadata": {},
   "outputs": [],
   "source": [
    "class CFHybridModel(nn.Module):\n",
    "    def __init__(self, n_users, n_movies, emb_dim, content_dim):\n",
    "        super().__init__()\n",
    "        self.user_embedding = nn.Embedding(n_users, emb_dim)\n",
    "        self.movie_embedding = nn.Embedding(n_movies, emb_dim)\n",
    "\n",
    "        # MLP for combining everything\n",
    "        self.fc = nn.Sequential(\n",
    "            nn.Linear(emb_dim * 2 + content_dim, 128),\n",
    "            nn.ReLU(),\n",
    "            nn.Linear(128, 1)\n",
    "        )\n",
    "\n",
    "    def forward(self, users, movies, daysin, daycos, yearsin, yearcos,\n",
    "                tags_emb, genres_emb, director_emb, starring_emb, review_emb):\n",
    "        \n",
    "        # Collaborative embeddings\n",
    "        user_vec = self.user_embedding(users)\n",
    "        movie_vec = self.movie_embedding(movies)\n",
    "\n",
    "        # Concatenate all content features\n",
    "        content = torch.cat([\n",
    "            daysin.unsqueeze(1),\n",
    "            daycos.unsqueeze(1),\n",
    "            yearsin.unsqueeze(1),\n",
    "            yearcos.unsqueeze(1),\n",
    "            tags_emb,\n",
    "            genres_emb,\n",
    "            director_emb,\n",
    "            starring_emb,\n",
    "            review_emb\n",
    "        ], dim=1)\n",
    "\n",
    "        # Final input vector\n",
    "        x = torch.cat([user_vec, movie_vec, content], dim=1)\n",
    "\n",
    "        # Predict\n",
    "        return self.fc(x).squeeze()"
   ]
  },
  {
   "cell_type": "markdown",
   "id": "275cf0f0-5105-49f4-a21f-32f10acd6ab6",
   "metadata": {},
   "source": [
    "### 📐 Define Embedding Dimensions\n",
    "\n",
    "We initialize the **collaborative vector space** for users and movies:\n",
    "\n",
    "- `n_users` and `n_movies` are set based on the max encoded indices (not just unique counts).\n",
    "- `emb_dim` defines the dimensionality of the collaborative embeddings.\n",
    "- `content_dim` represents the total size of all additional content-based features (e.g. timestamp, tags, genres, etc.) to be concatenated with user/movie vectors.\n",
    "\n",
    "This forms the complete input vector for the hybrid model.\n"
   ]
  },
  {
   "cell_type": "code",
   "execution_count": 79,
   "id": "1f345605-50b1-4be7-a0fb-7735c7d0dc8b",
   "metadata": {},
   "outputs": [],
   "source": [
    "#create vecotr space\n",
    "n_users = df_final['user'].max() + 1  # ✅ NOT nunique()\n",
    "n_movies = df_final['movie'].max() + 1\n",
    "emb_dim = 5 #dimension of the vector space\n",
    "content_dim = 4 + 384 * 5 "
   ]
  },
  {
   "cell_type": "code",
   "execution_count": 80,
   "id": "b305cc63-645f-4f57-9b75-f33ffda2a062",
   "metadata": {},
   "outputs": [],
   "source": [
    "#initiate the model\n",
    "model = CFHybridModel(\n",
    "    n_users=n_users,\n",
    "    n_movies=n_movies,\n",
    "    emb_dim=emb_dim,\n",
    "    content_dim=content_dim\n",
    ")"
   ]
  },
  {
   "cell_type": "markdown",
   "id": "881fa6f1-f184-46dc-8513-3583937db8f3",
   "metadata": {},
   "source": [
    "### ⚙️ Loss Function & Optimizer\n",
    "\n",
    "We use **Mean Squared Error (MSE)** as the loss function to measure the difference between predicted and actual ratings.  \n",
    "The model is optimized using the **Adam optimizer** with a learning rate of `0.01` for efficient and adaptive gradient updates."
   ]
  },
  {
   "cell_type": "code",
   "execution_count": 81,
   "id": "d599f3a3-f4e1-42fb-9e96-16d979fbc37f",
   "metadata": {},
   "outputs": [],
   "source": [
    "loss_fn = nn.MSELoss()\n",
    "optimizer = optim.Adam(model.parameters(), lr=0.01)"
   ]
  },
  {
   "cell_type": "markdown",
   "id": "43cd7f88-74cb-49e4-a952-ca987765b416",
   "metadata": {},
   "source": [
    "## Train & Eval"
   ]
  },
  {
   "cell_type": "code",
   "execution_count": 82,
   "id": "3ac9a478-7fe4-4776-b050-1e3c417d7f81",
   "metadata": {},
   "outputs": [
    {
     "name": "stdout",
     "output_type": "stream",
     "text": [
      "Epoch 1/20 | Train Loss: 1.0745 | Val Loss: 1.0619\n",
      "Epoch 2/20 | Train Loss: 0.9814 | Val Loss: 0.9528\n",
      "Epoch 3/20 | Train Loss: 0.9022 | Val Loss: 0.9951\n",
      "Epoch 4/20 | Train Loss: 0.7086 | Val Loss: 1.1896\n",
      "Epoch 5/20 | Train Loss: 0.5173 | Val Loss: 1.2069\n",
      "Epoch 6/20 | Train Loss: 0.3855 | Val Loss: 1.2126\n",
      "Epoch 7/20 | Train Loss: 0.3091 | Val Loss: 1.3106\n",
      "Epoch 8/20 | Train Loss: 0.2701 | Val Loss: 1.3364\n",
      "Epoch 9/20 | Train Loss: 0.2499 | Val Loss: 1.3043\n",
      "Epoch 10/20 | Train Loss: 0.2352 | Val Loss: 1.3274\n",
      "Epoch 11/20 | Train Loss: 0.2239 | Val Loss: 1.3221\n",
      "Epoch 12/20 | Train Loss: 0.2184 | Val Loss: 1.2824\n",
      "Epoch 13/20 | Train Loss: 0.2144 | Val Loss: 1.2918\n",
      "Epoch 14/20 | Train Loss: 0.2110 | Val Loss: 1.2890\n",
      "Epoch 15/20 | Train Loss: 0.2053 | Val Loss: 1.3077\n",
      "Epoch 16/20 | Train Loss: 0.2038 | Val Loss: 1.2613\n",
      "Epoch 17/20 | Train Loss: 0.1992 | Val Loss: 1.2740\n",
      "Epoch 18/20 | Train Loss: 0.1964 | Val Loss: 1.2713\n",
      "Epoch 19/20 | Train Loss: 0.1954 | Val Loss: 1.3361\n",
      "Epoch 20/20 | Train Loss: 0.1909 | Val Loss: 1.2923\n"
     ]
    }
   ],
   "source": [
    "n_epochs = 20\n",
    "\n",
    "device = \"cuda\" if torch.cuda.is_available() else (\n",
    "    \"mps\" if torch.backends.mps.is_available() else \"cpu\"\n",
    ")\n",
    "model.to(device)\n",
    "\n",
    "for epoch in range(n_epochs):\n",
    "    model.train()\n",
    "    train_loss = 0\n",
    "\n",
    "    for batch in train_loader:\n",
    "        (\n",
    "            users, movies, ratings,\n",
    "            daysin, daycos, yearsin, yearcos,\n",
    "            tags_emb, genres_emb, director_emb, starring_emb, review_emb\n",
    "        ) = [x.to(device) for x in batch]\n",
    "\n",
    "        optimizer.zero_grad()\n",
    "\n",
    "        # Forward pass\n",
    "        predictions = model(\n",
    "            users, movies, daysin, daycos, yearsin, yearcos,\n",
    "            tags_emb, genres_emb, director_emb, starring_emb, review_emb\n",
    "        )\n",
    "\n",
    "        loss = loss_fn(predictions, ratings)\n",
    "        loss.backward()\n",
    "        optimizer.step()\n",
    "\n",
    "        train_loss += loss.item()\n",
    "\n",
    "    # Validation loop\n",
    "    model.eval()\n",
    "    val_loss = 0\n",
    "\n",
    "    with torch.no_grad():\n",
    "        for batch in val_loader:\n",
    "            (\n",
    "                users, movies, ratings,\n",
    "                daysin, daycos, yearsin, yearcos,\n",
    "                tags_emb, genres_emb, director_emb, starring_emb, review_emb\n",
    "            ) = [x.to(device) for x in batch]\n",
    "\n",
    "            predictions = model(\n",
    "                users, movies, daysin, daycos, yearsin, yearcos,\n",
    "                tags_emb, genres_emb, director_emb, starring_emb, review_emb\n",
    "            )\n",
    "\n",
    "            loss = loss_fn(predictions, ratings)\n",
    "            val_loss += loss.item()\n",
    "\n",
    "    print(\n",
    "        f\"Epoch {epoch+1}/{n_epochs} | \"\n",
    "        f\"Train Loss: {train_loss / len(train_loader):.4f} | \"\n",
    "        f\"Val Loss: {val_loss / len(val_loader):.4f}\"\n",
    "    )\n"
   ]
  },
  {
   "cell_type": "code",
   "execution_count": 83,
   "id": "ef112c41-060b-42e9-8272-e7bb9b9afab2",
   "metadata": {},
   "outputs": [
    {
     "name": "stdout",
     "output_type": "stream",
     "text": [
      "✅ Test Loss: 1.2805\n"
     ]
    }
   ],
   "source": [
    "# Test\n",
    "model.eval()\n",
    "\n",
    "with torch.no_grad():\n",
    "    test_loss = 0\n",
    "    for batch in test_loader:\n",
    "        (\n",
    "            users, movies, ratings,\n",
    "            daysin, daycos, yearsin, yearcos,\n",
    "            tags_emb, genres_emb, director_emb, starring_emb, review_emb\n",
    "        ) = [x.to(device) for x in batch]\n",
    "\n",
    "        predictions = model(\n",
    "            users, movies, daysin, daycos, yearsin, yearcos,\n",
    "            tags_emb, genres_emb, director_emb, starring_emb, review_emb\n",
    "        )\n",
    "\n",
    "        loss = loss_fn(predictions, ratings)\n",
    "        test_loss += loss.item()\n",
    "\n",
    "    print(f\"✅ Test Loss: {test_loss / len(test_loader):.4f}\")\n"
   ]
  },
  {
   "cell_type": "markdown",
   "id": "94c9c754-7aea-43d5-9896-db3cebee418d",
   "metadata": {},
   "source": [
    "## 🎯 Model In Application \n",
    "\n",
    "We define a function to **recommend top-N movies** for a given user based on the model's predicted ratings.  \n",
    "\n",
    "- It filters out movies the user has already rated.\n",
    "- It gathers relevant content features for each candidate movie.\n",
    "- It runs the model to predict ratings for all remaining movies.\n",
    "- It returns the **highest-rated recommendations** for that user.\n",
    "\n",
    "This enables personalized recommendations using both collaborative and content-based signals."
   ]
  },
  {
   "cell_type": "code",
   "execution_count": 86,
   "id": "57d97acf-a88f-4fdb-acfb-06062c74161f",
   "metadata": {},
   "outputs": [],
   "source": [
    "def recommend_movies(model, user_id, df, all_movie_ids, rated_movie_ids=set(), top_n=10, device=\"cpu\"):\n",
    "    \"\"\"\n",
    "    Return a list of top_n recommended movie IDs (encoded) for a given user.\n",
    "\n",
    "    Args:\n",
    "        model (nn.Module): Trained hybrid model.\n",
    "        user_id (int): Encoded user ID.\n",
    "        df (pd.DataFrame): Dataset with all features and movie encodings.\n",
    "        all_movie_ids (list): All encoded movie IDs.\n",
    "        rated_movie_ids (set): Movies already rated by this user.\n",
    "        top_n (int): Number of recommendations.\n",
    "        device (str): \"cpu\", \"cuda\", or \"mps\".\n",
    "\n",
    "    Returns:\n",
    "        List[int]: Top-N recommended movie IDs.\n",
    "    \"\"\"\n",
    "    model.eval()\n",
    "\n",
    "    # Filter candidate movies\n",
    "    candidate_ids = [m for m in all_movie_ids if m not in rated_movie_ids]\n",
    "    if not candidate_ids:\n",
    "        return []\n",
    "\n",
    "    # Repeat user_id to match movie count\n",
    "    user_tensor = torch.tensor([user_id] * len(candidate_ids), dtype=torch.long, device=device)\n",
    "    movie_tensor = torch.tensor(candidate_ids, dtype=torch.long, device=device)\n",
    "\n",
    "    # Ensure only one row per movie\n",
    "    df_unique_movies = df.drop_duplicates(subset=\"movie\", keep=\"first\")\n",
    "    \n",
    "    # Now reindex safely\n",
    "    features = df_unique_movies.set_index(\"movie\").reindex(candidate_ids).dropna()\n",
    "    candidate_ids = features.index.tolist()\n",
    "\n",
    "    # Scalar features\n",
    "    daysin  = torch.tensor(features[\"Day sin\"].values, dtype=torch.float32, device=device)\n",
    "    daycos  = torch.tensor(features[\"Day cos\"].values, dtype=torch.float32, device=device)\n",
    "    yearsin = torch.tensor(features[\"Year sin\"].values, dtype=torch.float32, device=device)\n",
    "    yearcos = torch.tensor(features[\"Year cos\"].values, dtype=torch.float32, device=device)\n",
    "\n",
    "    # Embedded features\n",
    "    tags_emb     = torch.tensor(np.stack(features[\"tags_emb\"].values), dtype=torch.float32, device=device)\n",
    "    genres_emb   = torch.tensor(np.stack(features[\"genres_emb\"].values), dtype=torch.float32, device=device)\n",
    "    director_emb = torch.tensor(np.stack(features[\"director_emb\"].values), dtype=torch.float32, device=device)\n",
    "    starring_emb = torch.tensor(np.stack(features[\"starring_emb\"].values), dtype=torch.float32, device=device)\n",
    "    review_emb   = torch.tensor(np.stack(features[\"review_emb\"].values), dtype=torch.float32, device=device)\n",
    "\n",
    "    # Run model\n",
    "    with torch.no_grad():\n",
    "        preds = model(\n",
    "            user_tensor, movie_tensor,\n",
    "            daysin, daycos, yearsin, yearcos,\n",
    "            tags_emb, genres_emb, director_emb, starring_emb, review_emb\n",
    "        )\n",
    "\n",
    "    # Get top-N movie indices\n",
    "    top_indices = preds.cpu().numpy().argsort()[::-1][:top_n]\n",
    "\n",
    "    # Return top-N movie IDs (encoded)\n",
    "    return [candidate_ids[i] for i in top_indices]\n"
   ]
  },
  {
   "cell_type": "markdown",
   "id": "5e3bfc34-143d-4639-9579-d97ee989a8bb",
   "metadata": {},
   "source": [
    "Now we can test and see e.g. what movies does it sugges to userId = 10"
   ]
  },
  {
   "cell_type": "code",
   "execution_count": 87,
   "id": "1836fa80-c1c8-4d42-a0f3-d6dcb4c31051",
   "metadata": {},
   "outputs": [
    {
     "name": "stdout",
     "output_type": "stream",
     "text": [
      "🎬 Recommended movie IDs: [179, 444, 174, 112, 228]\n"
     ]
    }
   ],
   "source": [
    "user_id = 10  # Encoded user ID\n",
    "rated_movies = set(df_final[df_final['userId'] == user_id]['movie'].values)\n",
    "all_movies = df_final['movie'].unique()\n",
    "\n",
    "recommended_movies = recommend_movies(\n",
    "    model=model,\n",
    "    user_id=user_id,\n",
    "    df=df,\n",
    "    all_movie_ids=all_movies,\n",
    "    rated_movie_ids=rated_movies,\n",
    "    top_n=5,\n",
    "    device=device\n",
    ")\n",
    "\n",
    "print(\"🎬 Recommended movie IDs:\", recommended_movies)\n"
   ]
  },
  {
   "cell_type": "code",
   "execution_count": 88,
   "id": "ee174ded-ed7a-4a85-b6d5-a86a0fa1bd82",
   "metadata": {},
   "outputs": [],
   "source": [
    "movie_ids = np.unique(df_final[df_final.movie.isin(recommended_movies)]['movieId'])"
   ]
  },
  {
   "cell_type": "code",
   "execution_count": 90,
   "id": "fc2dcab1-a070-48c5-a3f2-e7932c9d073c",
   "metadata": {},
   "outputs": [
    {
     "data": {
      "text/html": [
       "<div>\n",
       "<style scoped>\n",
       "    .dataframe tbody tr th:only-of-type {\n",
       "        vertical-align: middle;\n",
       "    }\n",
       "\n",
       "    .dataframe tbody tr th {\n",
       "        vertical-align: top;\n",
       "    }\n",
       "\n",
       "    .dataframe thead th {\n",
       "        text-align: right;\n",
       "    }\n",
       "</style>\n",
       "<table border=\"1\" class=\"dataframe\">\n",
       "  <thead>\n",
       "    <tr style=\"text-align: right;\">\n",
       "      <th></th>\n",
       "      <th>movieId</th>\n",
       "      <th>title</th>\n",
       "      <th>genres</th>\n",
       "    </tr>\n",
       "  </thead>\n",
       "  <tbody>\n",
       "    <tr>\n",
       "      <th>2819</th>\n",
       "      <td>2905</td>\n",
       "      <td>Sanjuro (Tsubaki Sanjûrô) (1962)</td>\n",
       "      <td>Action|Adventure|Drama</td>\n",
       "    </tr>\n",
       "    <tr>\n",
       "      <th>4203</th>\n",
       "      <td>4298</td>\n",
       "      <td>Rififi (Du rififi chez les hommes) (1955)</td>\n",
       "      <td>Crime|Film-Noir|Thriller</td>\n",
       "    </tr>\n",
       "    <tr>\n",
       "      <th>4296</th>\n",
       "      <td>4391</td>\n",
       "      <td>Vertical Ray of the Sun, The (Mua he chieu tha...</td>\n",
       "      <td>Drama</td>\n",
       "    </tr>\n",
       "    <tr>\n",
       "      <th>5610</th>\n",
       "      <td>5709</td>\n",
       "      <td>Amateur, The (1981)</td>\n",
       "      <td>Crime|Thriller</td>\n",
       "    </tr>\n",
       "    <tr>\n",
       "      <th>10577</th>\n",
       "      <td>40491</td>\n",
       "      <td>Match Factory Girl, The (Tulitikkutehtaan tytt...</td>\n",
       "      <td>Comedy|Drama</td>\n",
       "    </tr>\n",
       "  </tbody>\n",
       "</table>\n",
       "</div>"
      ],
      "text/plain": [
       "       movieId                                              title  \\\n",
       "2819      2905                   Sanjuro (Tsubaki Sanjûrô) (1962)   \n",
       "4203      4298          Rififi (Du rififi chez les hommes) (1955)   \n",
       "4296      4391  Vertical Ray of the Sun, The (Mua he chieu tha...   \n",
       "5610      5709                                Amateur, The (1981)   \n",
       "10577    40491  Match Factory Girl, The (Tulitikkutehtaan tytt...   \n",
       "\n",
       "                         genres  \n",
       "2819     Action|Adventure|Drama  \n",
       "4203   Crime|Film-Noir|Thriller  \n",
       "4296                      Drama  \n",
       "5610             Crime|Thriller  \n",
       "10577              Comedy|Drama  "
      ]
     },
     "execution_count": 90,
     "metadata": {},
     "output_type": "execute_result"
    }
   ],
   "source": [
    "#list of suggested movies\n",
    "movies = pd.read_csv(\"data/raw/movie.csv\")\n",
    "movies[movies.movieId.isin(movie_ids)]"
   ]
  },
  {
   "cell_type": "markdown",
   "id": "3ba7a44c-fe4a-4a36-a7ec-a0e8b6c8e527",
   "metadata": {},
   "source": [
    "It seems that userId = 10 likes movies of genres Drama, Thriller & Crime and abit Comedy. \n",
    "\n",
    "Let's check if we he actually liked these types of movies:"
   ]
  },
  {
   "cell_type": "code",
   "execution_count": 98,
   "id": "8b4f6569-92cc-40c4-82c5-5755abe2587a",
   "metadata": {},
   "outputs": [
    {
     "data": {
      "text/html": [
       "<div>\n",
       "<style scoped>\n",
       "    .dataframe tbody tr th:only-of-type {\n",
       "        vertical-align: middle;\n",
       "    }\n",
       "\n",
       "    .dataframe tbody tr th {\n",
       "        vertical-align: top;\n",
       "    }\n",
       "\n",
       "    .dataframe thead th {\n",
       "        text-align: right;\n",
       "    }\n",
       "</style>\n",
       "<table border=\"1\" class=\"dataframe\">\n",
       "  <thead>\n",
       "    <tr style=\"text-align: right;\">\n",
       "      <th></th>\n",
       "      <th>movieId</th>\n",
       "      <th>title</th>\n",
       "      <th>genres</th>\n",
       "    </tr>\n",
       "  </thead>\n",
       "  <tbody>\n",
       "    <tr>\n",
       "      <th>895</th>\n",
       "      <td>912</td>\n",
       "      <td>Casablanca (1942)</td>\n",
       "      <td>Drama|Romance</td>\n",
       "    </tr>\n",
       "    <tr>\n",
       "      <th>1113</th>\n",
       "      <td>1136</td>\n",
       "      <td>Monty Python and the Holy Grail (1975)</td>\n",
       "      <td>Adventure|Comedy|Fantasy</td>\n",
       "    </tr>\n",
       "    <tr>\n",
       "      <th>1195</th>\n",
       "      <td>1221</td>\n",
       "      <td>Godfather: Part II, The (1974)</td>\n",
       "      <td>Crime|Drama</td>\n",
       "    </tr>\n",
       "    <tr>\n",
       "      <th>1974</th>\n",
       "      <td>2058</td>\n",
       "      <td>Negotiator, The (1998)</td>\n",
       "      <td>Action|Crime|Drama|Mystery|Thriller</td>\n",
       "    </tr>\n",
       "    <tr>\n",
       "      <th>2299</th>\n",
       "      <td>2384</td>\n",
       "      <td>Babe: Pig in the City (1998)</td>\n",
       "      <td>Adventure|Children|Drama</td>\n",
       "    </tr>\n",
       "  </tbody>\n",
       "</table>\n",
       "</div>"
      ],
      "text/plain": [
       "      movieId                                   title  \\\n",
       "895       912                       Casablanca (1942)   \n",
       "1113     1136  Monty Python and the Holy Grail (1975)   \n",
       "1195     1221          Godfather: Part II, The (1974)   \n",
       "1974     2058                  Negotiator, The (1998)   \n",
       "2299     2384            Babe: Pig in the City (1998)   \n",
       "\n",
       "                                   genres  \n",
       "895                         Drama|Romance  \n",
       "1113             Adventure|Comedy|Fantasy  \n",
       "1195                          Crime|Drama  \n",
       "1974  Action|Crime|Drama|Mystery|Thriller  \n",
       "2299             Adventure|Children|Drama  "
      ]
     },
     "execution_count": 98,
     "metadata": {},
     "output_type": "execute_result"
    }
   ],
   "source": [
    "movies[movies.movieId.isin(ratings_sample[ratings_sample.userId == 10]['movieId'])]"
   ]
  },
  {
   "cell_type": "markdown",
   "id": "41390409-538c-45e5-9faa-3f07d0b1ec56",
   "metadata": {},
   "source": [
    "We can see that users has rated high rating to movies of these genres before. So our model made good suggestions"
   ]
  },
  {
   "cell_type": "code",
   "execution_count": null,
   "id": "0f543011-4321-4dfc-844d-feafb49fc8dc",
   "metadata": {},
   "outputs": [],
   "source": []
  }
 ],
 "metadata": {
  "kernelspec": {
   "display_name": "Python 3 (ipykernel)",
   "language": "python",
   "name": "python3"
  },
  "language_info": {
   "codemirror_mode": {
    "name": "ipython",
    "version": 3
   },
   "file_extension": ".py",
   "mimetype": "text/x-python",
   "name": "python",
   "nbconvert_exporter": "python",
   "pygments_lexer": "ipython3",
   "version": "3.11.5"
  }
 },
 "nbformat": 4,
 "nbformat_minor": 5
}
